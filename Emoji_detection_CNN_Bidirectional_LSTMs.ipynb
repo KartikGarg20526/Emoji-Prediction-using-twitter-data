{
  "cells": [
    {
      "cell_type": "markdown",
      "metadata": {
        "id": "view-in-github",
        "colab_type": "text"
      },
      "source": [
        "<a href=\"https://colab.research.google.com/github/KartikGarg20526/Emoji-Prediction-using-twitter-data/blob/main/Emoji_detection_CNN_Bidirectional_LSTMs.ipynb\" target=\"_parent\"><img src=\"https://colab.research.google.com/assets/colab-badge.svg\" alt=\"Open In Colab\"/></a>"
      ]
    },
    {
      "cell_type": "code",
      "execution_count": 1,
      "metadata": {
        "colab": {
          "base_uri": "https://localhost:8080/"
        },
        "id": "RNG5V6XlIQD7",
        "outputId": "11e0eefb-0313-4337-d1a6-2c14d11b0183"
      },
      "outputs": [
        {
          "output_type": "stream",
          "name": "stderr",
          "text": [
            "[nltk_data] Downloading package stopwords to /root/nltk_data...\n",
            "[nltk_data]   Unzipping corpora/stopwords.zip.\n",
            "[nltk_data] Downloading package punkt to /root/nltk_data...\n",
            "[nltk_data]   Unzipping tokenizers/punkt.zip.\n",
            "[nltk_data] Downloading package wordnet to /root/nltk_data...\n"
          ]
        }
      ],
      "source": [
        "import os\n",
        "import numpy as np\n",
        "import pandas as pd\n",
        "import matplotlib.pyplot as plt\n",
        "import seaborn as sns\n",
        "import warnings\n",
        "warnings.filterwarnings(\"ignore\")\n",
        "import re\n",
        "from textblob import TextBlob\n",
        "import nltk\n",
        "nltk.download('stopwords')\n",
        "from nltk.corpus import stopwords\n",
        "nltk.download('punkt')\n",
        "nltk.download('wordnet')\n",
        "from nltk.stem import WordNetLemmatizer\n",
        "from nltk.tokenize import word_tokenize\n",
        "import string\n",
        "import tensorflow as tf\n",
        "from tensorflow import keras"
      ]
    },
    {
      "cell_type": "markdown",
      "metadata": {
        "id": "KOTOH6bYUpGs"
      },
      "source": [
        "# Load Data"
      ]
    },
    {
      "cell_type": "code",
      "execution_count": 2,
      "metadata": {
        "id": "SQ8qClG8TkiV"
      },
      "outputs": [],
      "source": [
        "tweet_txt_raw = open('/content/us_train.text','r',encoding=\"utf8\")\n",
        "tweet_labels_raw = open('/content/us_train.labels','r',encoding=\"utf8\")\n",
        "\n",
        "tweet_text = []\n",
        "tweet_labels = []\n",
        "\n",
        "for sentence in tweet_txt_raw:\n",
        "    sentence = sentence.rstrip()\n",
        "    tweet_text.append(sentence)\n",
        "\n",
        "for sentence in tweet_labels_raw:\n",
        "    sentence = sentence.rstrip()\n",
        "    sentence = int(sentence)\n",
        "    tweet_labels.append(sentence)\n",
        "\n",
        "df = pd.DataFrame()\n",
        "df[\"Tweet\"] = tweet_text\n",
        "df[\"Label\"] = tweet_labels"
      ]
    },
    {
      "cell_type": "code",
      "execution_count": 3,
      "metadata": {
        "colab": {
          "base_uri": "https://localhost:8080/",
          "height": 206
        },
        "id": "1Wgl39JRT7Wz",
        "outputId": "93ae352b-7568-4718-b9ed-e1f257fcd60b"
      },
      "outputs": [
        {
          "output_type": "execute_result",
          "data": {
            "text/plain": [
              "                                               Tweet  Label\n",
              "0  A little throwback with my favourite person @ ...      0\n",
              "1  glam on @user yesterday for #kcon makeup using...      7\n",
              "2  Democracy Plaza in the wake of a stunning outc...     11\n",
              "3   Then &amp; Now. VILO @ Walt Disney Magic Kingdom      0\n",
              "4               Who never... @ A Galaxy Far Far Away      2"
            ],
            "text/html": [
              "\n",
              "  <div id=\"df-0a3c8e22-a2bd-4982-bf09-3914f19d9068\" class=\"colab-df-container\">\n",
              "    <div>\n",
              "<style scoped>\n",
              "    .dataframe tbody tr th:only-of-type {\n",
              "        vertical-align: middle;\n",
              "    }\n",
              "\n",
              "    .dataframe tbody tr th {\n",
              "        vertical-align: top;\n",
              "    }\n",
              "\n",
              "    .dataframe thead th {\n",
              "        text-align: right;\n",
              "    }\n",
              "</style>\n",
              "<table border=\"1\" class=\"dataframe\">\n",
              "  <thead>\n",
              "    <tr style=\"text-align: right;\">\n",
              "      <th></th>\n",
              "      <th>Tweet</th>\n",
              "      <th>Label</th>\n",
              "    </tr>\n",
              "  </thead>\n",
              "  <tbody>\n",
              "    <tr>\n",
              "      <th>0</th>\n",
              "      <td>A little throwback with my favourite person @ ...</td>\n",
              "      <td>0</td>\n",
              "    </tr>\n",
              "    <tr>\n",
              "      <th>1</th>\n",
              "      <td>glam on @user yesterday for #kcon makeup using...</td>\n",
              "      <td>7</td>\n",
              "    </tr>\n",
              "    <tr>\n",
              "      <th>2</th>\n",
              "      <td>Democracy Plaza in the wake of a stunning outc...</td>\n",
              "      <td>11</td>\n",
              "    </tr>\n",
              "    <tr>\n",
              "      <th>3</th>\n",
              "      <td>Then &amp;amp; Now. VILO @ Walt Disney Magic Kingdom</td>\n",
              "      <td>0</td>\n",
              "    </tr>\n",
              "    <tr>\n",
              "      <th>4</th>\n",
              "      <td>Who never... @ A Galaxy Far Far Away</td>\n",
              "      <td>2</td>\n",
              "    </tr>\n",
              "  </tbody>\n",
              "</table>\n",
              "</div>\n",
              "    <div class=\"colab-df-buttons\">\n",
              "\n",
              "  <div class=\"colab-df-container\">\n",
              "    <button class=\"colab-df-convert\" onclick=\"convertToInteractive('df-0a3c8e22-a2bd-4982-bf09-3914f19d9068')\"\n",
              "            title=\"Convert this dataframe to an interactive table.\"\n",
              "            style=\"display:none;\">\n",
              "\n",
              "  <svg xmlns=\"http://www.w3.org/2000/svg\" height=\"24px\" viewBox=\"0 -960 960 960\">\n",
              "    <path d=\"M120-120v-720h720v720H120Zm60-500h600v-160H180v160Zm220 220h160v-160H400v160Zm0 220h160v-160H400v160ZM180-400h160v-160H180v160Zm440 0h160v-160H620v160ZM180-180h160v-160H180v160Zm440 0h160v-160H620v160Z\"/>\n",
              "  </svg>\n",
              "    </button>\n",
              "\n",
              "  <style>\n",
              "    .colab-df-container {\n",
              "      display:flex;\n",
              "      gap: 12px;\n",
              "    }\n",
              "\n",
              "    .colab-df-convert {\n",
              "      background-color: #E8F0FE;\n",
              "      border: none;\n",
              "      border-radius: 50%;\n",
              "      cursor: pointer;\n",
              "      display: none;\n",
              "      fill: #1967D2;\n",
              "      height: 32px;\n",
              "      padding: 0 0 0 0;\n",
              "      width: 32px;\n",
              "    }\n",
              "\n",
              "    .colab-df-convert:hover {\n",
              "      background-color: #E2EBFA;\n",
              "      box-shadow: 0px 1px 2px rgba(60, 64, 67, 0.3), 0px 1px 3px 1px rgba(60, 64, 67, 0.15);\n",
              "      fill: #174EA6;\n",
              "    }\n",
              "\n",
              "    .colab-df-buttons div {\n",
              "      margin-bottom: 4px;\n",
              "    }\n",
              "\n",
              "    [theme=dark] .colab-df-convert {\n",
              "      background-color: #3B4455;\n",
              "      fill: #D2E3FC;\n",
              "    }\n",
              "\n",
              "    [theme=dark] .colab-df-convert:hover {\n",
              "      background-color: #434B5C;\n",
              "      box-shadow: 0px 1px 3px 1px rgba(0, 0, 0, 0.15);\n",
              "      filter: drop-shadow(0px 1px 2px rgba(0, 0, 0, 0.3));\n",
              "      fill: #FFFFFF;\n",
              "    }\n",
              "  </style>\n",
              "\n",
              "    <script>\n",
              "      const buttonEl =\n",
              "        document.querySelector('#df-0a3c8e22-a2bd-4982-bf09-3914f19d9068 button.colab-df-convert');\n",
              "      buttonEl.style.display =\n",
              "        google.colab.kernel.accessAllowed ? 'block' : 'none';\n",
              "\n",
              "      async function convertToInteractive(key) {\n",
              "        const element = document.querySelector('#df-0a3c8e22-a2bd-4982-bf09-3914f19d9068');\n",
              "        const dataTable =\n",
              "          await google.colab.kernel.invokeFunction('convertToInteractive',\n",
              "                                                    [key], {});\n",
              "        if (!dataTable) return;\n",
              "\n",
              "        const docLinkHtml = 'Like what you see? Visit the ' +\n",
              "          '<a target=\"_blank\" href=https://colab.research.google.com/notebooks/data_table.ipynb>data table notebook</a>'\n",
              "          + ' to learn more about interactive tables.';\n",
              "        element.innerHTML = '';\n",
              "        dataTable['output_type'] = 'display_data';\n",
              "        await google.colab.output.renderOutput(dataTable, element);\n",
              "        const docLink = document.createElement('div');\n",
              "        docLink.innerHTML = docLinkHtml;\n",
              "        element.appendChild(docLink);\n",
              "      }\n",
              "    </script>\n",
              "  </div>\n",
              "\n",
              "\n",
              "<div id=\"df-8fccab93-abe3-4915-8b42-5387eedb9043\">\n",
              "  <button class=\"colab-df-quickchart\" onclick=\"quickchart('df-8fccab93-abe3-4915-8b42-5387eedb9043')\"\n",
              "            title=\"Suggest charts\"\n",
              "            style=\"display:none;\">\n",
              "\n",
              "<svg xmlns=\"http://www.w3.org/2000/svg\" height=\"24px\"viewBox=\"0 0 24 24\"\n",
              "     width=\"24px\">\n",
              "    <g>\n",
              "        <path d=\"M19 3H5c-1.1 0-2 .9-2 2v14c0 1.1.9 2 2 2h14c1.1 0 2-.9 2-2V5c0-1.1-.9-2-2-2zM9 17H7v-7h2v7zm4 0h-2V7h2v10zm4 0h-2v-4h2v4z\"/>\n",
              "    </g>\n",
              "</svg>\n",
              "  </button>\n",
              "\n",
              "<style>\n",
              "  .colab-df-quickchart {\n",
              "      --bg-color: #E8F0FE;\n",
              "      --fill-color: #1967D2;\n",
              "      --hover-bg-color: #E2EBFA;\n",
              "      --hover-fill-color: #174EA6;\n",
              "      --disabled-fill-color: #AAA;\n",
              "      --disabled-bg-color: #DDD;\n",
              "  }\n",
              "\n",
              "  [theme=dark] .colab-df-quickchart {\n",
              "      --bg-color: #3B4455;\n",
              "      --fill-color: #D2E3FC;\n",
              "      --hover-bg-color: #434B5C;\n",
              "      --hover-fill-color: #FFFFFF;\n",
              "      --disabled-bg-color: #3B4455;\n",
              "      --disabled-fill-color: #666;\n",
              "  }\n",
              "\n",
              "  .colab-df-quickchart {\n",
              "    background-color: var(--bg-color);\n",
              "    border: none;\n",
              "    border-radius: 50%;\n",
              "    cursor: pointer;\n",
              "    display: none;\n",
              "    fill: var(--fill-color);\n",
              "    height: 32px;\n",
              "    padding: 0;\n",
              "    width: 32px;\n",
              "  }\n",
              "\n",
              "  .colab-df-quickchart:hover {\n",
              "    background-color: var(--hover-bg-color);\n",
              "    box-shadow: 0 1px 2px rgba(60, 64, 67, 0.3), 0 1px 3px 1px rgba(60, 64, 67, 0.15);\n",
              "    fill: var(--button-hover-fill-color);\n",
              "  }\n",
              "\n",
              "  .colab-df-quickchart-complete:disabled,\n",
              "  .colab-df-quickchart-complete:disabled:hover {\n",
              "    background-color: var(--disabled-bg-color);\n",
              "    fill: var(--disabled-fill-color);\n",
              "    box-shadow: none;\n",
              "  }\n",
              "\n",
              "  .colab-df-spinner {\n",
              "    border: 2px solid var(--fill-color);\n",
              "    border-color: transparent;\n",
              "    border-bottom-color: var(--fill-color);\n",
              "    animation:\n",
              "      spin 1s steps(1) infinite;\n",
              "  }\n",
              "\n",
              "  @keyframes spin {\n",
              "    0% {\n",
              "      border-color: transparent;\n",
              "      border-bottom-color: var(--fill-color);\n",
              "      border-left-color: var(--fill-color);\n",
              "    }\n",
              "    20% {\n",
              "      border-color: transparent;\n",
              "      border-left-color: var(--fill-color);\n",
              "      border-top-color: var(--fill-color);\n",
              "    }\n",
              "    30% {\n",
              "      border-color: transparent;\n",
              "      border-left-color: var(--fill-color);\n",
              "      border-top-color: var(--fill-color);\n",
              "      border-right-color: var(--fill-color);\n",
              "    }\n",
              "    40% {\n",
              "      border-color: transparent;\n",
              "      border-right-color: var(--fill-color);\n",
              "      border-top-color: var(--fill-color);\n",
              "    }\n",
              "    60% {\n",
              "      border-color: transparent;\n",
              "      border-right-color: var(--fill-color);\n",
              "    }\n",
              "    80% {\n",
              "      border-color: transparent;\n",
              "      border-right-color: var(--fill-color);\n",
              "      border-bottom-color: var(--fill-color);\n",
              "    }\n",
              "    90% {\n",
              "      border-color: transparent;\n",
              "      border-bottom-color: var(--fill-color);\n",
              "    }\n",
              "  }\n",
              "</style>\n",
              "\n",
              "  <script>\n",
              "    async function quickchart(key) {\n",
              "      const quickchartButtonEl =\n",
              "        document.querySelector('#' + key + ' button');\n",
              "      quickchartButtonEl.disabled = true;  // To prevent multiple clicks.\n",
              "      quickchartButtonEl.classList.add('colab-df-spinner');\n",
              "      try {\n",
              "        const charts = await google.colab.kernel.invokeFunction(\n",
              "            'suggestCharts', [key], {});\n",
              "      } catch (error) {\n",
              "        console.error('Error during call to suggestCharts:', error);\n",
              "      }\n",
              "      quickchartButtonEl.classList.remove('colab-df-spinner');\n",
              "      quickchartButtonEl.classList.add('colab-df-quickchart-complete');\n",
              "    }\n",
              "    (() => {\n",
              "      let quickchartButtonEl =\n",
              "        document.querySelector('#df-8fccab93-abe3-4915-8b42-5387eedb9043 button');\n",
              "      quickchartButtonEl.style.display =\n",
              "        google.colab.kernel.accessAllowed ? 'block' : 'none';\n",
              "    })();\n",
              "  </script>\n",
              "</div>\n",
              "\n",
              "    </div>\n",
              "  </div>\n"
            ]
          },
          "metadata": {},
          "execution_count": 3
        }
      ],
      "source": [
        "df.head()"
      ]
    },
    {
      "cell_type": "code",
      "execution_count": 4,
      "metadata": {
        "colab": {
          "base_uri": "https://localhost:8080/"
        },
        "id": "crBhZgb9UZBV",
        "outputId": "0a0d8e9d-a7d9-49b0-b511-f3914e8179b3"
      },
      "outputs": [
        {
          "output_type": "stream",
          "name": "stdout",
          "text": [
            "Shape of the dataset :  (50000, 2)\n"
          ]
        }
      ],
      "source": [
        "print(\"Shape of the dataset : \", df.shape)"
      ]
    },
    {
      "cell_type": "markdown",
      "metadata": {
        "id": "cokYk2liU_8a"
      },
      "source": [
        "# Emoji Mapping"
      ]
    },
    {
      "cell_type": "code",
      "execution_count": 5,
      "metadata": {
        "colab": {
          "base_uri": "https://localhost:8080/"
        },
        "id": "bySlOID5UjPE",
        "outputId": "2670aed7-e504-43ae-c13f-5709a971da84"
      },
      "outputs": [
        {
          "output_type": "stream",
          "name": "stdout",
          "text": [
            "0\t❤️\t Red heart\t\n",
            "\n",
            "1\t😍\t Smiling face with hearteyes\t\n",
            "\n",
            "2\t😂\t Face with tears of joy\t\n",
            "\n",
            "3\t💕\t Two hearts\n",
            "\n",
            "4\t🔥\t Fire\n",
            "\n",
            "5\t😊\t Smiling face with smiling eyes\t\n",
            "\n",
            "6\t😎\t Smiling face with sunglasses\t\n",
            "\n",
            "7\t✨\t Sparkles \t\n",
            "\n",
            "8\t💙\t Blue heart\n",
            "\n",
            "9\t😘\t Face blowing a kiss\t\n",
            "\n",
            "10\t📷\t Camera\t\n",
            "\n",
            "11\t🇺🇸\t United States\t\n",
            "\n",
            "12\t☀️\t Sun\n",
            "\n",
            "13\t💜\t Purple heart \t\n",
            "\n",
            "14\t😉\t Winking face\t\n",
            "\n",
            "15\t💯\t Hundred points\t\n",
            "\n",
            "16\t😁\t Beaming face with smiling eyes\t\n",
            "\n",
            "17\t🎄\tChristmas tree\t\n",
            "\n",
            "18\t📸\tCamera with flash\n",
            "\n",
            "19\t😜\tWinking face with tongue\t\n",
            "\n"
          ]
        }
      ],
      "source": [
        "emoji_raw = open('/content/us_mapping.txt','r',encoding=\"utf8\")\n",
        "\n",
        "emoji = []\n",
        "label = []\n",
        "meaning = []\n",
        "for sentence in emoji_raw:\n",
        "    print(sentence)\n",
        "    sentence = sentence.rstrip()\n",
        "    label.append(sentence.split()[0])\n",
        "    emoji.append(sentence.split()[1])\n",
        "    meaning.append(sentence.split()[2:])\n",
        "\n",
        "emoji_map = pd.DataFrame()\n",
        "emoji_map['Label'] = label\n",
        "emoji_map['Emoji'] = emoji\n",
        "emoji_map['Meaning'] = meaning"
      ]
    },
    {
      "cell_type": "code",
      "execution_count": 6,
      "metadata": {
        "colab": {
          "base_uri": "https://localhost:8080/"
        },
        "id": "o705v0HwZnUe",
        "outputId": "ba3f2a81-918b-43c1-dc5c-c6c2bd0108dc"
      },
      "outputs": [
        {
          "output_type": "stream",
          "name": "stdout",
          "text": [
            "   Label Emoji                               Meaning\n",
            "0      0    ❤️                          [Red, heart]\n",
            "1      1     😍      [Smiling, face, with, hearteyes]\n",
            "2      2     😂          [Face, with, tears, of, joy]\n",
            "3      3     💕                         [Two, hearts]\n",
            "4      4     🔥                                [Fire]\n",
            "5      5     😊  [Smiling, face, with, smiling, eyes]\n",
            "6      6     😎     [Smiling, face, with, sunglasses]\n",
            "7      7     ✨                            [Sparkles]\n",
            "8      8     💙                         [Blue, heart]\n",
            "9      9     😘              [Face, blowing, a, kiss]\n",
            "10    10     📷                              [Camera]\n",
            "11    11    🇺🇸                      [United, States]\n",
            "12    12    ☀️                                 [Sun]\n",
            "13    13     💜                       [Purple, heart]\n",
            "14    14     😉                       [Winking, face]\n",
            "15    15     💯                     [Hundred, points]\n",
            "16    16     😁  [Beaming, face, with, smiling, eyes]\n",
            "17    17     🎄                     [Christmas, tree]\n",
            "18    18     📸                 [Camera, with, flash]\n",
            "19    19     😜         [Winking, face, with, tongue]\n"
          ]
        }
      ],
      "source": [
        "print(emoji_map)"
      ]
    },
    {
      "cell_type": "code",
      "execution_count": 7,
      "metadata": {
        "colab": {
          "base_uri": "https://localhost:8080/",
          "height": 465
        },
        "id": "HhvBlsT_VLBW",
        "outputId": "5f61dc7b-3e27-4002-a285-abebdd0abe8d"
      },
      "outputs": [
        {
          "output_type": "display_data",
          "data": {
            "text/plain": [
              "<Figure size 800x500 with 1 Axes>"
            ],
            "image/png": "[encoded data removed]"
          },
          "metadata": {}
        }
      ],
      "source": [
        "plt.figure(figsize=(8,5))\n",
        "sns.countplot(x=df['Label'], palette=\"plasma\")\n",
        "plt.show()"
      ]
    },
    {
      "cell_type": "code",
      "source": [
        "# Checking for NULL values\n",
        "df['Label'].isnull().sum()"
      ],
      "metadata": {
        "colab": {
          "base_uri": "https://localhost:8080/"
        },
        "id": "C0cUWcayNnZH",
        "outputId": "fcb1b5ec-2e1b-4426-fb96-8b4a1090ab0a"
      },
      "execution_count": 8,
      "outputs": [
        {
          "output_type": "execute_result",
          "data": {
            "text/plain": [
              "0"
            ]
          },
          "metadata": {},
          "execution_count": 8
        }
      ]
    },
    {
      "cell_type": "code",
      "execution_count": 9,
      "metadata": {
        "colab": {
          "base_uri": "https://localhost:8080/"
        },
        "id": "oxLuHoHjeS3Q",
        "outputId": "ae6c82fb-8a5f-41ef-d3c1-29dd885fa588"
      },
      "outputs": [
        {
          "output_type": "stream",
          "name": "stdout",
          "text": [
            "Duplicated Rows :  116\n"
          ]
        }
      ],
      "source": [
        "# Checking if our data has duplicated rows\n",
        "print(\"Duplicated Rows : \", df.duplicated().sum())"
      ]
    },
    {
      "cell_type": "code",
      "execution_count": 10,
      "metadata": {
        "id": "NG4esM4bySBL"
      },
      "outputs": [],
      "source": [
        "# Dropping duplicated rows\n",
        "df = df.drop_duplicates()"
      ]
    },
    {
      "cell_type": "code",
      "execution_count": 11,
      "metadata": {
        "id": "cMwINKVFysyD"
      },
      "outputs": [],
      "source": [
        "# Reseting the indexes after dropping some rows\n",
        "df = df.reset_index(drop=True)"
      ]
    },
    {
      "cell_type": "code",
      "execution_count": 12,
      "metadata": {
        "colab": {
          "base_uri": "https://localhost:8080/"
        },
        "id": "i7VuarAyyj7n",
        "outputId": "054c3315-8deb-43aa-c621-994cb1fb6374"
      },
      "outputs": [
        {
          "output_type": "stream",
          "name": "stdout",
          "text": [
            "Shape of the data :  (49884, 2)\n"
          ]
        }
      ],
      "source": [
        "print(\"Shape of the data : \", df.shape)"
      ]
    },
    {
      "cell_type": "markdown",
      "metadata": {
        "id": "-OsFuwrQiN4V"
      },
      "source": [
        "Checking of there is some correlation between tweet length and Label data"
      ]
    },
    {
      "cell_type": "code",
      "execution_count": 13,
      "metadata": {
        "colab": {
          "base_uri": "https://localhost:8080/",
          "height": 430
        },
        "id": "r597CO6aWdDZ",
        "outputId": "84603465-8219-4e1f-8ee3-890ab03b22a0"
      },
      "outputs": [
        {
          "output_type": "display_data",
          "data": {
            "text/plain": [
              "<Figure size 640x480 with 1 Axes>"
            ],
            "image/png": "[encoded data removed]"
          },
          "metadata": {}
        }
      ],
      "source": [
        "tweet_len = []\n",
        "for sen in df['Tweet']:\n",
        "  tweet_len.append(len(sen))\n",
        "\n",
        "new_df = pd.DataFrame()\n",
        "new_df['Tweet_Length'] = tweet_len\n",
        "\n",
        "sns.histplot(tweet_len)\n",
        "plt.show()"
      ]
    },
    {
      "cell_type": "code",
      "execution_count": 14,
      "metadata": {
        "colab": {
          "base_uri": "https://localhost:8080/"
        },
        "id": "sGwe61hScYIF",
        "outputId": "bae8e868-980b-47cb-c7ef-afdf7d2e9185"
      },
      "outputs": [
        {
          "output_type": "stream",
          "name": "stdout",
          "text": [
            "Correlation between tweet length and label :  0.023448833195926666\n"
          ]
        }
      ],
      "source": [
        "corr = df['Label'].corr(new_df['Tweet_Length'])\n",
        "print(\"Correlation between tweet length and label : \", corr)"
      ]
    },
    {
      "cell_type": "markdown",
      "metadata": {
        "id": "ro26T5lqhOjI"
      },
      "source": [
        "Correlation between Tweet length and Label is very low."
      ]
    },
    {
      "cell_type": "markdown",
      "metadata": {
        "id": "85VJZOeDm654"
      },
      "source": [
        "# Preprocessing"
      ]
    },
    {
      "cell_type": "code",
      "execution_count": 15,
      "metadata": {
        "id": "TE4nGnz_z6f_"
      },
      "outputs": [],
      "source": [
        "def lowercase(tweet):\n",
        "  tweet = str(tweet)\n",
        "  return tweet.lower()"
      ]
    },
    {
      "cell_type": "code",
      "execution_count": 16,
      "metadata": {
        "id": "gN_JKdShz_rf"
      },
      "outputs": [],
      "source": [
        "def remove_html_tags(tweet):\n",
        "    tweet = str(tweet)\n",
        "    pattern = re.compile('<.*?>')\n",
        "    return pattern.sub(r'', tweet)"
      ]
    },
    {
      "cell_type": "code",
      "execution_count": 17,
      "metadata": {
        "id": "oI9CEz4d0Ie3"
      },
      "outputs": [],
      "source": [
        "def remove_url(tweet):\n",
        "    tweet = str(tweet)\n",
        "    pattern = re.compile(r'https?://\\S+|www\\.\\S+')\n",
        "    return pattern.sub(r'', tweet)"
      ]
    },
    {
      "cell_type": "code",
      "execution_count": 18,
      "metadata": {
        "id": "UCWkZpZ70Nad"
      },
      "outputs": [],
      "source": [
        "def remove_punctuations(tweet):\n",
        "    tweet = str(tweet)\n",
        "    exclude = string.punctuation\n",
        "    return tweet.translate(str.maketrans('', '', exclude))"
      ]
    },
    {
      "cell_type": "code",
      "execution_count": 19,
      "metadata": {
        "id": "BLmnF8vc1epL"
      },
      "outputs": [],
      "source": [
        "def remove_mentions(tweet):\n",
        "    return re.sub(r'@[A-Za-z0-9_]+', '', tweet)"
      ]
    },
    {
      "cell_type": "code",
      "execution_count": 20,
      "metadata": {
        "id": "awQ8g-090lZ8"
      },
      "outputs": [],
      "source": [
        "def remove_stopwords(tweet):\n",
        "    tweet = str(tweet)\n",
        "    tweet_words = []\n",
        "\n",
        "    for word in tweet.split():\n",
        "        if word in stopwords.words('english'):\n",
        "            tweet_words.append('')\n",
        "        else:\n",
        "            tweet_words.append(word)\n",
        "    return ' '.join(tweet_words)"
      ]
    },
    {
      "cell_type": "code",
      "execution_count": 21,
      "metadata": {
        "id": "pqNdI4kB3gJl"
      },
      "outputs": [],
      "source": [
        "def remove_numbers(tweet):\n",
        "    tweet = str(tweet)\n",
        "    return re.sub(r'\\d+', '', tweet)"
      ]
    },
    {
      "cell_type": "code",
      "execution_count": 22,
      "metadata": {
        "id": "vns2OONH4ra4"
      },
      "outputs": [],
      "source": [
        "def lemmatize_text(text):\n",
        "    lemmatizer = WordNetLemmatizer()\n",
        "    lemmatized_words = []\n",
        "    for w in word_tokenize(text):\n",
        "        lemmatized_words.append(lemmatizer.lemmatize(w))\n",
        "    return \" \".join(lemmatized_words)"
      ]
    },
    {
      "cell_type": "code",
      "execution_count": 23,
      "metadata": {
        "id": "hUu_EKjhylH0"
      },
      "outputs": [],
      "source": [
        "def preprocessing(data):\n",
        "  df['Tweet'] = df['Tweet'].apply(lowercase)            # converting to lowercase\n",
        "  df['Tweet'] = df['Tweet'].apply(remove_html_tags)     # removing html tags\n",
        "  df['Tweet'] = df['Tweet'].apply(remove_url)           # removing Urls\n",
        "  df['Tweet'] = df['Tweet'].apply(remove_punctuations)  # removing punctutations\n",
        "  df['Tweet'] = df['Tweet'].apply(remove_mentions)      # removing @ mentions\n",
        "  df['Tweet'] = df['Tweet'].apply(remove_stopwords)     # removing stopwords\n",
        "  df['Tweet'] = df['Tweet'].apply(remove_numbers)       # removing numbers\n",
        "  df['Tweet'] = df['Tweet'].apply(lemmatize_text)       # applying lemmatization"
      ]
    },
    {
      "cell_type": "code",
      "execution_count": 24,
      "metadata": {
        "id": "G6cymHk76c9w"
      },
      "outputs": [],
      "source": [
        "preprocessing(df)"
      ]
    },
    {
      "cell_type": "code",
      "execution_count": 25,
      "metadata": {
        "colab": {
          "base_uri": "https://localhost:8080/",
          "height": 206
        },
        "id": "9WsdjX5c6l54",
        "outputId": "d1b50ac4-144b-4a95-ca41-15c16e03cf4c"
      },
      "outputs": [
        {
          "output_type": "execute_result",
          "data": {
            "text/plain": [
              "                                               Tweet  Label\n",
              "0       little throwback favourite person water wall      0\n",
              "1  glam user yesterday kcon makeup using user fea...      7\n",
              "2  democracy plaza wake stunning outcome decision...     11\n",
              "3                 amp vilo walt disney magic kingdom      0\n",
              "4                          never galaxy far far away      2"
            ],
            "text/html": [
              "\n",
              "  <div id=\"df-b8ad13fb-3049-4939-828d-6db013f272fa\" class=\"colab-df-container\">\n",
              "    <div>\n",
              "<style scoped>\n",
              "    .dataframe tbody tr th:only-of-type {\n",
              "        vertical-align: middle;\n",
              "    }\n",
              "\n",
              "    .dataframe tbody tr th {\n",
              "        vertical-align: top;\n",
              "    }\n",
              "\n",
              "    .dataframe thead th {\n",
              "        text-align: right;\n",
              "    }\n",
              "</style>\n",
              "<table border=\"1\" class=\"dataframe\">\n",
              "  <thead>\n",
              "    <tr style=\"text-align: right;\">\n",
              "      <th></th>\n",
              "      <th>Tweet</th>\n",
              "      <th>Label</th>\n",
              "    </tr>\n",
              "  </thead>\n",
              "  <tbody>\n",
              "    <tr>\n",
              "      <th>0</th>\n",
              "      <td>little throwback favourite person water wall</td>\n",
              "      <td>0</td>\n",
              "    </tr>\n",
              "    <tr>\n",
              "      <th>1</th>\n",
              "      <td>glam user yesterday kcon makeup using user fea...</td>\n",
              "      <td>7</td>\n",
              "    </tr>\n",
              "    <tr>\n",
              "      <th>2</th>\n",
              "      <td>democracy plaza wake stunning outcome decision...</td>\n",
              "      <td>11</td>\n",
              "    </tr>\n",
              "    <tr>\n",
              "      <th>3</th>\n",
              "      <td>amp vilo walt disney magic kingdom</td>\n",
              "      <td>0</td>\n",
              "    </tr>\n",
              "    <tr>\n",
              "      <th>4</th>\n",
              "      <td>never galaxy far far away</td>\n",
              "      <td>2</td>\n",
              "    </tr>\n",
              "  </tbody>\n",
              "</table>\n",
              "</div>\n",
              "    <div class=\"colab-df-buttons\">\n",
              "\n",
              "  <div class=\"colab-df-container\">\n",
              "    <button class=\"colab-df-convert\" onclick=\"convertToInteractive('df-b8ad13fb-3049-4939-828d-6db013f272fa')\"\n",
              "            title=\"Convert this dataframe to an interactive table.\"\n",
              "            style=\"display:none;\">\n",
              "\n",
              "  <svg xmlns=\"http://www.w3.org/2000/svg\" height=\"24px\" viewBox=\"0 -960 960 960\">\n",
              "    <path d=\"M120-120v-720h720v720H120Zm60-500h600v-160H180v160Zm220 220h160v-160H400v160Zm0 220h160v-160H400v160ZM180-400h160v-160H180v160Zm440 0h160v-160H620v160ZM180-180h160v-160H180v160Zm440 0h160v-160H620v160Z\"/>\n",
              "  </svg>\n",
              "    </button>\n",
              "\n",
              "  <style>\n",
              "    .colab-df-container {\n",
              "      display:flex;\n",
              "      gap: 12px;\n",
              "    }\n",
              "\n",
              "    .colab-df-convert {\n",
              "      background-color: #E8F0FE;\n",
              "      border: none;\n",
              "      border-radius: 50%;\n",
              "      cursor: pointer;\n",
              "      display: none;\n",
              "      fill: #1967D2;\n",
              "      height: 32px;\n",
              "      padding: 0 0 0 0;\n",
              "      width: 32px;\n",
              "    }\n",
              "\n",
              "    .colab-df-convert:hover {\n",
              "      background-color: #E2EBFA;\n",
              "      box-shadow: 0px 1px 2px rgba(60, 64, 67, 0.3), 0px 1px 3px 1px rgba(60, 64, 67, 0.15);\n",
              "      fill: #174EA6;\n",
              "    }\n",
              "\n",
              "    .colab-df-buttons div {\n",
              "      margin-bottom: 4px;\n",
              "    }\n",
              "\n",
              "    [theme=dark] .colab-df-convert {\n",
              "      background-color: #3B4455;\n",
              "      fill: #D2E3FC;\n",
              "    }\n",
              "\n",
              "    [theme=dark] .colab-df-convert:hover {\n",
              "      background-color: #434B5C;\n",
              "      box-shadow: 0px 1px 3px 1px rgba(0, 0, 0, 0.15);\n",
              "      filter: drop-shadow(0px 1px 2px rgba(0, 0, 0, 0.3));\n",
              "      fill: #FFFFFF;\n",
              "    }\n",
              "  </style>\n",
              "\n",
              "    <script>\n",
              "      const buttonEl =\n",
              "        document.querySelector('#df-b8ad13fb-3049-4939-828d-6db013f272fa button.colab-df-convert');\n",
              "      buttonEl.style.display =\n",
              "        google.colab.kernel.accessAllowed ? 'block' : 'none';\n",
              "\n",
              "      async function convertToInteractive(key) {\n",
              "        const element = document.querySelector('#df-b8ad13fb-3049-4939-828d-6db013f272fa');\n",
              "        const dataTable =\n",
              "          await google.colab.kernel.invokeFunction('convertToInteractive',\n",
              "                                                    [key], {});\n",
              "        if (!dataTable) return;\n",
              "\n",
              "        const docLinkHtml = 'Like what you see? Visit the ' +\n",
              "          '<a target=\"_blank\" href=https://colab.research.google.com/notebooks/data_table.ipynb>data table notebook</a>'\n",
              "          + ' to learn more about interactive tables.';\n",
              "        element.innerHTML = '';\n",
              "        dataTable['output_type'] = 'display_data';\n",
              "        await google.colab.output.renderOutput(dataTable, element);\n",
              "        const docLink = document.createElement('div');\n",
              "        docLink.innerHTML = docLinkHtml;\n",
              "        element.appendChild(docLink);\n",
              "      }\n",
              "    </script>\n",
              "  </div>\n",
              "\n",
              "\n",
              "<div id=\"df-578eb8d0-a992-4f50-8f47-fe66b56677ee\">\n",
              "  <button class=\"colab-df-quickchart\" onclick=\"quickchart('df-578eb8d0-a992-4f50-8f47-fe66b56677ee')\"\n",
              "            title=\"Suggest charts\"\n",
              "            style=\"display:none;\">\n",
              "\n",
              "<svg xmlns=\"http://www.w3.org/2000/svg\" height=\"24px\"viewBox=\"0 0 24 24\"\n",
              "     width=\"24px\">\n",
              "    <g>\n",
              "        <path d=\"M19 3H5c-1.1 0-2 .9-2 2v14c0 1.1.9 2 2 2h14c1.1 0 2-.9 2-2V5c0-1.1-.9-2-2-2zM9 17H7v-7h2v7zm4 0h-2V7h2v10zm4 0h-2v-4h2v4z\"/>\n",
              "    </g>\n",
              "</svg>\n",
              "  </button>\n",
              "\n",
              "<style>\n",
              "  .colab-df-quickchart {\n",
              "      --bg-color: #E8F0FE;\n",
              "      --fill-color: #1967D2;\n",
              "      --hover-bg-color: #E2EBFA;\n",
              "      --hover-fill-color: #174EA6;\n",
              "      --disabled-fill-color: #AAA;\n",
              "      --disabled-bg-color: #DDD;\n",
              "  }\n",
              "\n",
              "  [theme=dark] .colab-df-quickchart {\n",
              "      --bg-color: #3B4455;\n",
              "      --fill-color: #D2E3FC;\n",
              "      --hover-bg-color: #434B5C;\n",
              "      --hover-fill-color: #FFFFFF;\n",
              "      --disabled-bg-color: #3B4455;\n",
              "      --disabled-fill-color: #666;\n",
              "  }\n",
              "\n",
              "  .colab-df-quickchart {\n",
              "    background-color: var(--bg-color);\n",
              "    border: none;\n",
              "    border-radius: 50%;\n",
              "    cursor: pointer;\n",
              "    display: none;\n",
              "    fill: var(--fill-color);\n",
              "    height: 32px;\n",
              "    padding: 0;\n",
              "    width: 32px;\n",
              "  }\n",
              "\n",
              "  .colab-df-quickchart:hover {\n",
              "    background-color: var(--hover-bg-color);\n",
              "    box-shadow: 0 1px 2px rgba(60, 64, 67, 0.3), 0 1px 3px 1px rgba(60, 64, 67, 0.15);\n",
              "    fill: var(--button-hover-fill-color);\n",
              "  }\n",
              "\n",
              "  .colab-df-quickchart-complete:disabled,\n",
              "  .colab-df-quickchart-complete:disabled:hover {\n",
              "    background-color: var(--disabled-bg-color);\n",
              "    fill: var(--disabled-fill-color);\n",
              "    box-shadow: none;\n",
              "  }\n",
              "\n",
              "  .colab-df-spinner {\n",
              "    border: 2px solid var(--fill-color);\n",
              "    border-color: transparent;\n",
              "    border-bottom-color: var(--fill-color);\n",
              "    animation:\n",
              "      spin 1s steps(1) infinite;\n",
              "  }\n",
              "\n",
              "  @keyframes spin {\n",
              "    0% {\n",
              "      border-color: transparent;\n",
              "      border-bottom-color: var(--fill-color);\n",
              "      border-left-color: var(--fill-color);\n",
              "    }\n",
              "    20% {\n",
              "      border-color: transparent;\n",
              "      border-left-color: var(--fill-color);\n",
              "      border-top-color: var(--fill-color);\n",
              "    }\n",
              "    30% {\n",
              "      border-color: transparent;\n",
              "      border-left-color: var(--fill-color);\n",
              "      border-top-color: var(--fill-color);\n",
              "      border-right-color: var(--fill-color);\n",
              "    }\n",
              "    40% {\n",
              "      border-color: transparent;\n",
              "      border-right-color: var(--fill-color);\n",
              "      border-top-color: var(--fill-color);\n",
              "    }\n",
              "    60% {\n",
              "      border-color: transparent;\n",
              "      border-right-color: var(--fill-color);\n",
              "    }\n",
              "    80% {\n",
              "      border-color: transparent;\n",
              "      border-right-color: var(--fill-color);\n",
              "      border-bottom-color: var(--fill-color);\n",
              "    }\n",
              "    90% {\n",
              "      border-color: transparent;\n",
              "      border-bottom-color: var(--fill-color);\n",
              "    }\n",
              "  }\n",
              "</style>\n",
              "\n",
              "  <script>\n",
              "    async function quickchart(key) {\n",
              "      const quickchartButtonEl =\n",
              "        document.querySelector('#' + key + ' button');\n",
              "      quickchartButtonEl.disabled = true;  // To prevent multiple clicks.\n",
              "      quickchartButtonEl.classList.add('colab-df-spinner');\n",
              "      try {\n",
              "        const charts = await google.colab.kernel.invokeFunction(\n",
              "            'suggestCharts', [key], {});\n",
              "      } catch (error) {\n",
              "        console.error('Error during call to suggestCharts:', error);\n",
              "      }\n",
              "      quickchartButtonEl.classList.remove('colab-df-spinner');\n",
              "      quickchartButtonEl.classList.add('colab-df-quickchart-complete');\n",
              "    }\n",
              "    (() => {\n",
              "      let quickchartButtonEl =\n",
              "        document.querySelector('#df-578eb8d0-a992-4f50-8f47-fe66b56677ee button');\n",
              "      quickchartButtonEl.style.display =\n",
              "        google.colab.kernel.accessAllowed ? 'block' : 'none';\n",
              "    })();\n",
              "  </script>\n",
              "</div>\n",
              "\n",
              "    </div>\n",
              "  </div>\n"
            ]
          },
          "metadata": {},
          "execution_count": 25
        }
      ],
      "source": [
        "df.head()"
      ]
    },
    {
      "cell_type": "markdown",
      "metadata": {
        "id": "8ZpzwRQUIL2Q"
      },
      "source": [
        "# Sentiment Analysis"
      ]
    },
    {
      "cell_type": "code",
      "execution_count": 26,
      "metadata": {
        "colab": {
          "base_uri": "https://localhost:8080/"
        },
        "id": "_qHMj5maAC7H",
        "outputId": "49d6afb8-ef9b-4c7c-f494-e85e76642907"
      },
      "outputs": [
        {
          "output_type": "stream",
          "name": "stdout",
          "text": [
            "Collecting vaderSentiment\n",
            "  Downloading vaderSentiment-3.3.2-py2.py3-none-any.whl (125 kB)\n",
            "\u001b[?25l     \u001b[90m━━━━━━━━━━━━━━━━━━━━━━━━━━━━━━━━━━━━━━━━\u001b[0m \u001b[32m0.0/126.0 kB\u001b[0m \u001b[31m?\u001b[0m eta \u001b[36m-:--:--\u001b[0m\r\u001b[2K     \u001b[91m━━━━━━━━━━━━━━━━━━━━━━━━━━━━━━━━━━━━━━━\u001b[0m\u001b[90m╺\u001b[0m \u001b[32m122.9/126.0 kB\u001b[0m \u001b[31m3.8 MB/s\u001b[0m eta \u001b[36m0:00:01\u001b[0m\r\u001b[2K     \u001b[90m━━━━━━━━━━━━━━━━━━━━━━━━━━━━━━━━━━━━━━━━\u001b[0m \u001b[32m126.0/126.0 kB\u001b[0m \u001b[31m3.0 MB/s\u001b[0m eta \u001b[36m0:00:00\u001b[0m\n",
            "\u001b[?25hRequirement already satisfied: requests in /usr/local/lib/python3.10/dist-packages (from vaderSentiment) (2.31.0)\n",
            "Requirement already satisfied: charset-normalizer<4,>=2 in /usr/local/lib/python3.10/dist-packages (from requests->vaderSentiment) (3.3.2)\n",
            "Requirement already satisfied: idna<4,>=2.5 in /usr/local/lib/python3.10/dist-packages (from requests->vaderSentiment) (3.6)\n",
            "Requirement already satisfied: urllib3<3,>=1.21.1 in /usr/local/lib/python3.10/dist-packages (from requests->vaderSentiment) (2.0.7)\n",
            "Requirement already satisfied: certifi>=2017.4.17 in /usr/local/lib/python3.10/dist-packages (from requests->vaderSentiment) (2024.2.2)\n",
            "Installing collected packages: vaderSentiment\n",
            "Successfully installed vaderSentiment-3.3.2\n"
          ]
        }
      ],
      "source": [
        "!pip install vaderSentiment\n",
        "from vaderSentiment.vaderSentiment import SentimentIntensityAnalyzer"
      ]
    },
    {
      "cell_type": "code",
      "execution_count": null,
      "metadata": {
        "id": "FKti69loESH1"
      },
      "outputs": [],
      "source": [
        "analyzer = SentimentIntensityAnalyzer()\n",
        "sentiment_score = []\n",
        "for tweet in df['Tweet']:\n",
        "  sentiment = analyzer.polarity_scores(tweet)['compound']\n",
        "  if sentiment >= 0.5:\n",
        "    sentiment_score.append(1)\n",
        "  elif sentiment <= -0.5:\n",
        "    sentiment_score.append(-1)\n",
        "  else:\n",
        "    sentiment_score.append(0)\n",
        "\n",
        "print(sentiment_score)"
      ]
    },
    {
      "cell_type": "code",
      "execution_count": 28,
      "metadata": {
        "colab": {
          "base_uri": "https://localhost:8080/"
        },
        "id": "cB6slFz0E--D",
        "outputId": "f7e61ed9-d6da-4379-e9a5-41fbe60f74ec"
      },
      "outputs": [
        {
          "output_type": "stream",
          "name": "stdout",
          "text": [
            "(49884, 3)\n"
          ]
        }
      ],
      "source": [
        "new_df = pd.DataFrame()\n",
        "new_df['Tweet'] = df['Tweet']\n",
        "new_df['Sentiment_Score'] = sentiment_score\n",
        "new_df['Label'] = df['Label']\n",
        "print(new_df.shape)"
      ]
    },
    {
      "cell_type": "code",
      "execution_count": 29,
      "metadata": {
        "colab": {
          "base_uri": "https://localhost:8080/",
          "height": 206
        },
        "id": "NH8v1y1eHyXd",
        "outputId": "990c2984-4d32-4acd-ec1a-84dd976b0545"
      },
      "outputs": [
        {
          "output_type": "execute_result",
          "data": {
            "text/plain": [
              "                                                   Tweet  Sentiment_Score  \\\n",
              "37209                               user know im teasing                0   \n",
              "1285   cry omg ily much edwin love baby girl edwin do...                1   \n",
              "18578        smell smoke mooresville overwhelming lowes…                0   \n",
              "26544  nationaldogshow national dog show philadelphia...                0   \n",
              "27542  really excited bring get heart racing orangeth...                1   \n",
              "\n",
              "       Label  \n",
              "37209      0  \n",
              "1285       0  \n",
              "18578      4  \n",
              "26544     16  \n",
              "27542      0  "
            ],
            "text/html": [
              "\n",
              "  <div id=\"df-72889e98-27e0-4632-8e93-0c3fc522b9af\" class=\"colab-df-container\">\n",
              "    <div>\n",
              "<style scoped>\n",
              "    .dataframe tbody tr th:only-of-type {\n",
              "        vertical-align: middle;\n",
              "    }\n",
              "\n",
              "    .dataframe tbody tr th {\n",
              "        vertical-align: top;\n",
              "    }\n",
              "\n",
              "    .dataframe thead th {\n",
              "        text-align: right;\n",
              "    }\n",
              "</style>\n",
              "<table border=\"1\" class=\"dataframe\">\n",
              "  <thead>\n",
              "    <tr style=\"text-align: right;\">\n",
              "      <th></th>\n",
              "      <th>Tweet</th>\n",
              "      <th>Sentiment_Score</th>\n",
              "      <th>Label</th>\n",
              "    </tr>\n",
              "  </thead>\n",
              "  <tbody>\n",
              "    <tr>\n",
              "      <th>37209</th>\n",
              "      <td>user know im teasing</td>\n",
              "      <td>0</td>\n",
              "      <td>0</td>\n",
              "    </tr>\n",
              "    <tr>\n",
              "      <th>1285</th>\n",
              "      <td>cry omg ily much edwin love baby girl edwin do...</td>\n",
              "      <td>1</td>\n",
              "      <td>0</td>\n",
              "    </tr>\n",
              "    <tr>\n",
              "      <th>18578</th>\n",
              "      <td>smell smoke mooresville overwhelming lowes…</td>\n",
              "      <td>0</td>\n",
              "      <td>4</td>\n",
              "    </tr>\n",
              "    <tr>\n",
              "      <th>26544</th>\n",
              "      <td>nationaldogshow national dog show philadelphia...</td>\n",
              "      <td>0</td>\n",
              "      <td>16</td>\n",
              "    </tr>\n",
              "    <tr>\n",
              "      <th>27542</th>\n",
              "      <td>really excited bring get heart racing orangeth...</td>\n",
              "      <td>1</td>\n",
              "      <td>0</td>\n",
              "    </tr>\n",
              "  </tbody>\n",
              "</table>\n",
              "</div>\n",
              "    <div class=\"colab-df-buttons\">\n",
              "\n",
              "  <div class=\"colab-df-container\">\n",
              "    <button class=\"colab-df-convert\" onclick=\"convertToInteractive('df-72889e98-27e0-4632-8e93-0c3fc522b9af')\"\n",
              "            title=\"Convert this dataframe to an interactive table.\"\n",
              "            style=\"display:none;\">\n",
              "\n",
              "  <svg xmlns=\"http://www.w3.org/2000/svg\" height=\"24px\" viewBox=\"0 -960 960 960\">\n",
              "    <path d=\"M120-120v-720h720v720H120Zm60-500h600v-160H180v160Zm220 220h160v-160H400v160Zm0 220h160v-160H400v160ZM180-400h160v-160H180v160Zm440 0h160v-160H620v160ZM180-180h160v-160H180v160Zm440 0h160v-160H620v160Z\"/>\n",
              "  </svg>\n",
              "    </button>\n",
              "\n",
              "  <style>\n",
              "    .colab-df-container {\n",
              "      display:flex;\n",
              "      gap: 12px;\n",
              "    }\n",
              "\n",
              "    .colab-df-convert {\n",
              "      background-color: #E8F0FE;\n",
              "      border: none;\n",
              "      border-radius: 50%;\n",
              "      cursor: pointer;\n",
              "      display: none;\n",
              "      fill: #1967D2;\n",
              "      height: 32px;\n",
              "      padding: 0 0 0 0;\n",
              "      width: 32px;\n",
              "    }\n",
              "\n",
              "    .colab-df-convert:hover {\n",
              "      background-color: #E2EBFA;\n",
              "      box-shadow: 0px 1px 2px rgba(60, 64, 67, 0.3), 0px 1px 3px 1px rgba(60, 64, 67, 0.15);\n",
              "      fill: #174EA6;\n",
              "    }\n",
              "\n",
              "    .colab-df-buttons div {\n",
              "      margin-bottom: 4px;\n",
              "    }\n",
              "\n",
              "    [theme=dark] .colab-df-convert {\n",
              "      background-color: #3B4455;\n",
              "      fill: #D2E3FC;\n",
              "    }\n",
              "\n",
              "    [theme=dark] .colab-df-convert:hover {\n",
              "      background-color: #434B5C;\n",
              "      box-shadow: 0px 1px 3px 1px rgba(0, 0, 0, 0.15);\n",
              "      filter: drop-shadow(0px 1px 2px rgba(0, 0, 0, 0.3));\n",
              "      fill: #FFFFFF;\n",
              "    }\n",
              "  </style>\n",
              "\n",
              "    <script>\n",
              "      const buttonEl =\n",
              "        document.querySelector('#df-72889e98-27e0-4632-8e93-0c3fc522b9af button.colab-df-convert');\n",
              "      buttonEl.style.display =\n",
              "        google.colab.kernel.accessAllowed ? 'block' : 'none';\n",
              "\n",
              "      async function convertToInteractive(key) {\n",
              "        const element = document.querySelector('#df-72889e98-27e0-4632-8e93-0c3fc522b9af');\n",
              "        const dataTable =\n",
              "          await google.colab.kernel.invokeFunction('convertToInteractive',\n",
              "                                                    [key], {});\n",
              "        if (!dataTable) return;\n",
              "\n",
              "        const docLinkHtml = 'Like what you see? Visit the ' +\n",
              "          '<a target=\"_blank\" href=https://colab.research.google.com/notebooks/data_table.ipynb>data table notebook</a>'\n",
              "          + ' to learn more about interactive tables.';\n",
              "        element.innerHTML = '';\n",
              "        dataTable['output_type'] = 'display_data';\n",
              "        await google.colab.output.renderOutput(dataTable, element);\n",
              "        const docLink = document.createElement('div');\n",
              "        docLink.innerHTML = docLinkHtml;\n",
              "        element.appendChild(docLink);\n",
              "      }\n",
              "    </script>\n",
              "  </div>\n",
              "\n",
              "\n",
              "<div id=\"df-854d2828-99b8-492d-9765-7930f4ad892a\">\n",
              "  <button class=\"colab-df-quickchart\" onclick=\"quickchart('df-854d2828-99b8-492d-9765-7930f4ad892a')\"\n",
              "            title=\"Suggest charts\"\n",
              "            style=\"display:none;\">\n",
              "\n",
              "<svg xmlns=\"http://www.w3.org/2000/svg\" height=\"24px\"viewBox=\"0 0 24 24\"\n",
              "     width=\"24px\">\n",
              "    <g>\n",
              "        <path d=\"M19 3H5c-1.1 0-2 .9-2 2v14c0 1.1.9 2 2 2h14c1.1 0 2-.9 2-2V5c0-1.1-.9-2-2-2zM9 17H7v-7h2v7zm4 0h-2V7h2v10zm4 0h-2v-4h2v4z\"/>\n",
              "    </g>\n",
              "</svg>\n",
              "  </button>\n",
              "\n",
              "<style>\n",
              "  .colab-df-quickchart {\n",
              "      --bg-color: #E8F0FE;\n",
              "      --fill-color: #1967D2;\n",
              "      --hover-bg-color: #E2EBFA;\n",
              "      --hover-fill-color: #174EA6;\n",
              "      --disabled-fill-color: #AAA;\n",
              "      --disabled-bg-color: #DDD;\n",
              "  }\n",
              "\n",
              "  [theme=dark] .colab-df-quickchart {\n",
              "      --bg-color: #3B4455;\n",
              "      --fill-color: #D2E3FC;\n",
              "      --hover-bg-color: #434B5C;\n",
              "      --hover-fill-color: #FFFFFF;\n",
              "      --disabled-bg-color: #3B4455;\n",
              "      --disabled-fill-color: #666;\n",
              "  }\n",
              "\n",
              "  .colab-df-quickchart {\n",
              "    background-color: var(--bg-color);\n",
              "    border: none;\n",
              "    border-radius: 50%;\n",
              "    cursor: pointer;\n",
              "    display: none;\n",
              "    fill: var(--fill-color);\n",
              "    height: 32px;\n",
              "    padding: 0;\n",
              "    width: 32px;\n",
              "  }\n",
              "\n",
              "  .colab-df-quickchart:hover {\n",
              "    background-color: var(--hover-bg-color);\n",
              "    box-shadow: 0 1px 2px rgba(60, 64, 67, 0.3), 0 1px 3px 1px rgba(60, 64, 67, 0.15);\n",
              "    fill: var(--button-hover-fill-color);\n",
              "  }\n",
              "\n",
              "  .colab-df-quickchart-complete:disabled,\n",
              "  .colab-df-quickchart-complete:disabled:hover {\n",
              "    background-color: var(--disabled-bg-color);\n",
              "    fill: var(--disabled-fill-color);\n",
              "    box-shadow: none;\n",
              "  }\n",
              "\n",
              "  .colab-df-spinner {\n",
              "    border: 2px solid var(--fill-color);\n",
              "    border-color: transparent;\n",
              "    border-bottom-color: var(--fill-color);\n",
              "    animation:\n",
              "      spin 1s steps(1) infinite;\n",
              "  }\n",
              "\n",
              "  @keyframes spin {\n",
              "    0% {\n",
              "      border-color: transparent;\n",
              "      border-bottom-color: var(--fill-color);\n",
              "      border-left-color: var(--fill-color);\n",
              "    }\n",
              "    20% {\n",
              "      border-color: transparent;\n",
              "      border-left-color: var(--fill-color);\n",
              "      border-top-color: var(--fill-color);\n",
              "    }\n",
              "    30% {\n",
              "      border-color: transparent;\n",
              "      border-left-color: var(--fill-color);\n",
              "      border-top-color: var(--fill-color);\n",
              "      border-right-color: var(--fill-color);\n",
              "    }\n",
              "    40% {\n",
              "      border-color: transparent;\n",
              "      border-right-color: var(--fill-color);\n",
              "      border-top-color: var(--fill-color);\n",
              "    }\n",
              "    60% {\n",
              "      border-color: transparent;\n",
              "      border-right-color: var(--fill-color);\n",
              "    }\n",
              "    80% {\n",
              "      border-color: transparent;\n",
              "      border-right-color: var(--fill-color);\n",
              "      border-bottom-color: var(--fill-color);\n",
              "    }\n",
              "    90% {\n",
              "      border-color: transparent;\n",
              "      border-bottom-color: var(--fill-color);\n",
              "    }\n",
              "  }\n",
              "</style>\n",
              "\n",
              "  <script>\n",
              "    async function quickchart(key) {\n",
              "      const quickchartButtonEl =\n",
              "        document.querySelector('#' + key + ' button');\n",
              "      quickchartButtonEl.disabled = true;  // To prevent multiple clicks.\n",
              "      quickchartButtonEl.classList.add('colab-df-spinner');\n",
              "      try {\n",
              "        const charts = await google.colab.kernel.invokeFunction(\n",
              "            'suggestCharts', [key], {});\n",
              "      } catch (error) {\n",
              "        console.error('Error during call to suggestCharts:', error);\n",
              "      }\n",
              "      quickchartButtonEl.classList.remove('colab-df-spinner');\n",
              "      quickchartButtonEl.classList.add('colab-df-quickchart-complete');\n",
              "    }\n",
              "    (() => {\n",
              "      let quickchartButtonEl =\n",
              "        document.querySelector('#df-854d2828-99b8-492d-9765-7930f4ad892a button');\n",
              "      quickchartButtonEl.style.display =\n",
              "        google.colab.kernel.accessAllowed ? 'block' : 'none';\n",
              "    })();\n",
              "  </script>\n",
              "</div>\n",
              "\n",
              "    </div>\n",
              "  </div>\n"
            ]
          },
          "metadata": {},
          "execution_count": 29
        }
      ],
      "source": [
        "new_df.sample(5)"
      ]
    },
    {
      "cell_type": "code",
      "execution_count": 30,
      "metadata": {
        "id": "0p1uwr4FGXUB"
      },
      "outputs": [],
      "source": [
        "corr = new_df['Label'].corr(new_df['Sentiment_Score'])"
      ]
    },
    {
      "cell_type": "code",
      "execution_count": 31,
      "metadata": {
        "colab": {
          "base_uri": "https://localhost:8080/"
        },
        "id": "tkPGcA5_Gl6O",
        "outputId": "0d7a0a2a-cab1-46f3-f1ee-8f7cf4e70ef2"
      },
      "outputs": [
        {
          "output_type": "stream",
          "name": "stdout",
          "text": [
            "Correlation between Sentiment of the tweet and label :  -0.06495911462472476\n"
          ]
        }
      ],
      "source": [
        "print(\"Correlation between Sentiment of the tweet and label : \", corr)"
      ]
    },
    {
      "cell_type": "markdown",
      "metadata": {
        "id": "yBM84Clkdk_E"
      },
      "source": [
        "Correlation between sentiment of the tweet and label is very low so we will discard it as our feature."
      ]
    },
    {
      "cell_type": "code",
      "execution_count": 32,
      "metadata": {
        "id": "5PylV-J4P1MT"
      },
      "outputs": [],
      "source": [
        "X = df['Tweet'].values\n",
        "y = df['Label'].values"
      ]
    },
    {
      "cell_type": "markdown",
      "metadata": {
        "id": "1lJMrkNNlu96"
      },
      "source": [
        "# Over-sampling data"
      ]
    },
    {
      "cell_type": "code",
      "execution_count": 33,
      "metadata": {
        "colab": {
          "base_uri": "https://localhost:8080/"
        },
        "id": "b1X7Rdlv7iu_",
        "outputId": "9ee484fe-48a7-4818-86c4-72c26a0db981"
      },
      "outputs": [
        {
          "output_type": "execute_result",
          "data": {
            "text/plain": [
              "0     10728\n",
              "1      5263\n",
              "2      5237\n",
              "3      2881\n",
              "4      2513\n",
              "5      2312\n",
              "6      2043\n",
              "7      1884\n",
              "8      1791\n",
              "9      1667\n",
              "10     1541\n",
              "11     1518\n",
              "12     1460\n",
              "14     1375\n",
              "13     1346\n",
              "16     1306\n",
              "18     1284\n",
              "17     1276\n",
              "15     1246\n",
              "19     1213\n",
              "Name: Label, dtype: int64"
            ]
          },
          "metadata": {},
          "execution_count": 33
        }
      ],
      "source": [
        "df['Label'].value_counts()"
      ]
    },
    {
      "cell_type": "code",
      "execution_count": 34,
      "metadata": {
        "colab": {
          "base_uri": "https://localhost:8080/"
        },
        "id": "TxQml09TluYj",
        "outputId": "522a5710-80c1-4c66-bf24-399847ae2f2c"
      },
      "outputs": [
        {
          "output_type": "stream",
          "name": "stdout",
          "text": [
            "(214560,) (214560,)\n"
          ]
        }
      ],
      "source": [
        "from imblearn.over_sampling import RandomOverSampler\n",
        "os = RandomOverSampler()\n",
        "X = X.reshape(X.shape[0],1)\n",
        "X, y = os.fit_resample(X, y)\n",
        "X = X.reshape(X.shape[0],)\n",
        "print(X.shape, y.shape)"
      ]
    },
    {
      "cell_type": "markdown",
      "metadata": {
        "id": "iV-GOjfgKuwS"
      },
      "source": [
        "# Tokenization"
      ]
    },
    {
      "cell_type": "code",
      "execution_count": 35,
      "metadata": {
        "id": "cPALHLcUGnKv"
      },
      "outputs": [],
      "source": [
        "from keras.preprocessing.sequence import pad_sequences\n",
        "from keras.preprocessing.text import Tokenizer\n",
        "\n",
        "tokenizer = Tokenizer()\n",
        "tokenizer.fit_on_texts(X)\n",
        "sequences = tokenizer.texts_to_sequences(X)"
      ]
    },
    {
      "cell_type": "code",
      "execution_count": 36,
      "metadata": {
        "colab": {
          "base_uri": "https://localhost:8080/"
        },
        "id": "-MT5ortyNaly",
        "outputId": "d5c69cef-f217-4ccb-e92a-c1ea93a26d4b"
      },
      "outputs": [
        {
          "output_type": "stream",
          "name": "stdout",
          "text": [
            "Tweet: little throwback favourite person water wall\n",
            "Tokenized Text: [29, 358, 1664, 360, 610, 686]\n",
            "Tweet: glam user yesterday kcon makeup using user featherette…\n",
            "Tokenized Text: [3349, 1, 226, 33149, 593, 1572, 1, 33150]\n",
            "Tweet: democracy plaza wake stunning outcome decision nbc news\n",
            "Tokenized Text: [4128, 562, 984, 1237, 6560, 2308, 3709, 1417]\n",
            "Tweet: amp vilo walt disney magic kingdom\n",
            "Tokenized Text: [7, 47080, 495, 86, 174, 302]\n",
            "Tweet: never galaxy far far away\n",
            "Tokenized Text: [90, 2751, 637, 637, 437]\n",
            "Tweet: dinner fla tonight panseared salmon couscous veggie salad yum dinner florida salmon…\n",
            "Tokenized Text: [167, 8875, 43, 37467, 2284, 37468, 3394, 1718, 1725, 167, 53, 37469]\n",
            "Tweet: fav senior last game congrats beating west west salem…\n",
            "Tokenized Text: [459, 406, 26, 104, 496, 4686, 157, 157, 8386]\n",
            "Tweet: got go formal best friend phi mu jsu\n",
            "Tokenized Text: [18, 42, 1080, 20, 24, 939, 3578, 21490]\n",
            "Tweet: cause miss little homies throwback cousinlove indiana university\n",
            "Tokenized Text: [396, 109, 29, 1487, 358, 4811, 488, 19]\n",
            "Tweet: birthday kiss madison wisconsin\n",
            "Tokenized Text: [30, 657, 665, 891]\n"
          ]
        }
      ],
      "source": [
        "for i in range(10):\n",
        "  print(\"Tweet:\", X[i])\n",
        "  print(\"Tokenized Text:\", sequences[i])"
      ]
    },
    {
      "cell_type": "code",
      "execution_count": 37,
      "metadata": {
        "colab": {
          "base_uri": "https://localhost:8080/"
        },
        "id": "uG9gew7SLx82",
        "outputId": "af52b030-b220-4b08-ccdb-d95950b45054"
      },
      "outputs": [
        {
          "output_type": "stream",
          "name": "stdout",
          "text": [
            "Length of the longest tweet :  23\n"
          ]
        }
      ],
      "source": [
        "max_length = max(len(seq) for seq in sequences)\n",
        "print(\"Length of the longest tweet : \", max_length)\n",
        "padded_sequences = pad_sequences(sequences, maxlen=max_length, padding='post')"
      ]
    },
    {
      "cell_type": "code",
      "execution_count": 38,
      "metadata": {
        "colab": {
          "base_uri": "https://localhost:8080/"
        },
        "id": "xs6JvlENTt7A",
        "outputId": "325556b4-19b3-4ac7-e50a-be4a4b9ab5e2"
      },
      "outputs": [
        {
          "output_type": "stream",
          "name": "stdout",
          "text": [
            "Number of unique words in vocalbulary :  59964\n"
          ]
        }
      ],
      "source": [
        "print(\"Number of unique words in vocalbulary : \", len(tokenizer.word_index))"
      ]
    },
    {
      "cell_type": "code",
      "execution_count": 39,
      "metadata": {
        "colab": {
          "base_uri": "https://localhost:8080/"
        },
        "id": "0i9cLo5GN_gr",
        "outputId": "ba0ffdf1-9464-450b-a15f-60aa005edbcf"
      },
      "outputs": [
        {
          "output_type": "stream",
          "name": "stdout",
          "text": [
            "Padded Sequence :  [  29  358 1664  360  610  686    0    0    0    0    0    0    0    0\n",
            "    0    0    0    0    0    0    0    0    0]\n"
          ]
        }
      ],
      "source": [
        "print(\"Padded Sequence : \", padded_sequences[0])"
      ]
    },
    {
      "cell_type": "markdown",
      "metadata": {
        "id": "OS56fwKLQn3K"
      },
      "source": [
        "# Train Test Split"
      ]
    },
    {
      "cell_type": "code",
      "execution_count": 40,
      "metadata": {
        "colab": {
          "base_uri": "https://localhost:8080/"
        },
        "id": "uDXLikojOKs3",
        "outputId": "198ddb54-5980-439c-d996-eca8e2aba585"
      },
      "outputs": [
        {
          "output_type": "stream",
          "name": "stdout",
          "text": [
            "Training X Dim  (171648, 23)\n",
            "Training y Dim  (171648,)\n",
            "Test X Dim  (42912, 23)\n",
            "Test y Dim  (42912,)\n"
          ]
        }
      ],
      "source": [
        "from sklearn.model_selection import train_test_split\n",
        "\n",
        "X_train, X_test, y_train, y_test = train_test_split(padded_sequences, y, test_size=0.2, random_state=42)\n",
        "print(\"Training X Dim \",X_train.shape)\n",
        "print(\"Training y Dim \",y_train.shape)\n",
        "print(\"Test X Dim \",X_test.shape)\n",
        "print(\"Test y Dim \",y_test.shape)"
      ]
    },
    {
      "cell_type": "code",
      "execution_count": 41,
      "metadata": {
        "id": "srrdWOh7UfKK"
      },
      "outputs": [],
      "source": [
        "from keras.callbacks import EarlyStopping"
      ]
    },
    {
      "cell_type": "code",
      "execution_count": 42,
      "metadata": {
        "id": "ZsqPTJ58aRyf"
      },
      "outputs": [],
      "source": [
        "callback = EarlyStopping(\n",
        "    monitor=\"val_loss\",\n",
        "    patience=1,\n",
        "    verbose=1,\n",
        "    mode=\"auto\",\n",
        "    baseline=None,\n",
        "    restore_best_weights=False\n",
        ")"
      ]
    },
    {
      "cell_type": "markdown",
      "metadata": {
        "id": "eBJIbh4SmCLi"
      },
      "source": [
        "# CNN Bidirectional LSTMs Model"
      ]
    },
    {
      "cell_type": "code",
      "execution_count": 43,
      "metadata": {
        "colab": {
          "base_uri": "https://localhost:8080/"
        },
        "id": "vxLRrKLgmGqF",
        "outputId": "d37c5688-b7ff-4d9f-9b75-be5e2eca9d54"
      },
      "outputs": [
        {
          "output_type": "stream",
          "name": "stdout",
          "text": [
            "Model: \"sequential\"\n",
            "_________________________________________________________________\n",
            " Layer (type)                Output Shape              Param #   \n",
            "=================================================================\n",
            " embedding (Embedding)       (None, 23, 50)            2998250   \n",
            "                                                                 \n",
            " conv1d (Conv1D)             (None, 19, 64)            16064     \n",
            "                                                                 \n",
            " max_pooling1d (MaxPooling1  (None, 9, 64)             0         \n",
            " D)                                                              \n",
            "                                                                 \n",
            " bidirectional (Bidirection  (None, 9, 160)            92800     \n",
            " al)                                                             \n",
            "                                                                 \n",
            " dropout (Dropout)           (None, 9, 160)            0         \n",
            "                                                                 \n",
            " bidirectional_1 (Bidirecti  (None, 80)                64320     \n",
            " onal)                                                           \n",
            "                                                                 \n",
            " dropout_1 (Dropout)         (None, 80)                0         \n",
            "                                                                 \n",
            " dense (Dense)               (None, 20)                1620      \n",
            "                                                                 \n",
            "=================================================================\n",
            "Total params: 3173054 (12.10 MB)\n",
            "Trainable params: 3173054 (12.10 MB)\n",
            "Non-trainable params: 0 (0.00 Byte)\n",
            "_________________________________________________________________\n"
          ]
        }
      ],
      "source": [
        "from keras.models import Sequential\n",
        "from keras.layers import Dropout, Dense, LSTM, Embedding, Bidirectional, GlobalMaxPool1D, Conv1D, MaxPooling1D\n",
        "\n",
        "model = Sequential()\n",
        "model.add(Embedding(input_dim=len(tokenizer.word_index)+1,output_dim=50,input_length=X_train.shape[1]))\n",
        "model.add(Conv1D(filters=64, kernel_size=5, activation='relu'))\n",
        "model.add(MaxPooling1D(pool_size=2))\n",
        "model.add(Bidirectional(LSTM(units=80, return_sequences=True)))\n",
        "model.add(Dropout(0.5))\n",
        "model.add(Bidirectional(LSTM(40)))\n",
        "model.add(Dropout(0.5))\n",
        "model.add(Dense(20, activation=\"softmax\"))\n",
        "\n",
        "model.summary()"
      ]
    },
    {
      "cell_type": "code",
      "execution_count": 44,
      "metadata": {
        "id": "_A16LZMLSaHt"
      },
      "outputs": [],
      "source": [
        "model.compile(loss = 'sparse_categorical_crossentropy', optimizer = \"adam\", metrics=[\"accuracy\"])"
      ]
    },
    {
      "cell_type": "code",
      "execution_count": 45,
      "metadata": {
        "colab": {
          "base_uri": "https://localhost:8080/"
        },
        "id": "zdud4jNGSkFd",
        "outputId": "6e443e41-757c-48d0-857f-9ec69cecafbb"
      },
      "outputs": [
        {
          "output_type": "stream",
          "name": "stdout",
          "text": [
            "Epoch 1/20\n",
            "5364/5364 [==============================] - 400s 72ms/step - loss: 1.8752 - accuracy: 0.4224 - val_loss: 0.9917 - val_accuracy: 0.6945\n",
            "Epoch 2/20\n",
            "5364/5364 [==============================] - 370s 69ms/step - loss: 0.6602 - accuracy: 0.8031 - val_loss: 0.5402 - val_accuracy: 0.8385\n",
            "Epoch 3/20\n",
            "5364/5364 [==============================] - 375s 70ms/step - loss: 0.3477 - accuracy: 0.8958 - val_loss: 0.4147 - val_accuracy: 0.8800\n",
            "Epoch 4/20\n",
            "5364/5364 [==============================] - 359s 67ms/step - loss: 0.2275 - accuracy: 0.9332 - val_loss: 0.3731 - val_accuracy: 0.9014\n",
            "Epoch 5/20\n",
            "5364/5364 [==============================] - 370s 69ms/step - loss: 0.1602 - accuracy: 0.9546 - val_loss: 0.3533 - val_accuracy: 0.9149\n",
            "Epoch 6/20\n",
            "5364/5364 [==============================] - 369s 69ms/step - loss: 0.1219 - accuracy: 0.9657 - val_loss: 0.3457 - val_accuracy: 0.9227\n",
            "Epoch 7/20\n",
            "5364/5364 [==============================] - 356s 66ms/step - loss: 0.0974 - accuracy: 0.9730 - val_loss: 0.3681 - val_accuracy: 0.9267\n",
            "Epoch 7: early stopping\n"
          ]
        }
      ],
      "source": [
        "history = model.fit(X_train, y_train, validation_data=(X_test, y_test), epochs=20, callbacks=callback)"
      ]
    },
    {
      "cell_type": "markdown",
      "metadata": {
        "id": "2PxgZ2dgASB8"
      },
      "source": [
        "# Model Evaluation"
      ]
    },
    {
      "cell_type": "code",
      "execution_count": 46,
      "metadata": {
        "colab": {
          "base_uri": "https://localhost:8080/",
          "height": 452
        },
        "id": "JxQyRhTnSqYE",
        "outputId": "23cd13f8-9926-4afe-c541-fc8970140952"
      },
      "outputs": [
        {
          "output_type": "execute_result",
          "data": {
            "text/plain": [
              "<matplotlib.legend.Legend at 0x7e35caadf9a0>"
            ]
          },
          "metadata": {},
          "execution_count": 46
        },
        {
          "output_type": "display_data",
          "data": {
            "text/plain": [
              "<Figure size 640x480 with 1 Axes>"
            ],
            "image/png": "[encoded data removed]"
          },
          "metadata": {}
        }
      ],
      "source": [
        "plt.plot(history.history['accuracy'], label='Training Accuracy')\n",
        "plt.plot(history.history['val_accuracy'], label='Validation Accuracy')\n",
        "plt.legend()"
      ]
    },
    {
      "cell_type": "code",
      "execution_count": 47,
      "metadata": {
        "colab": {
          "base_uri": "https://localhost:8080/",
          "height": 447
        },
        "id": "qKURLpG1ir25",
        "outputId": "888a15c5-e841-471f-ddec-47185ba8789c"
      },
      "outputs": [
        {
          "output_type": "execute_result",
          "data": {
            "text/plain": [
              "<matplotlib.legend.Legend at 0x7e35caa108e0>"
            ]
          },
          "metadata": {},
          "execution_count": 47
        },
        {
          "output_type": "display_data",
          "data": {
            "text/plain": [
              "<Figure size 640x480 with 1 Axes>"
            ],
            "image/png": "[encoded data removed]"
          },
          "metadata": {}
        }
      ],
      "source": [
        "plt.plot(history.history['loss'],  label='Training Loss')\n",
        "plt.plot(history.history['val_loss'], label='Validation Loss')\n",
        "plt.legend()"
      ]
    },
    {
      "cell_type": "code",
      "execution_count": 48,
      "metadata": {
        "colab": {
          "base_uri": "https://localhost:8080/"
        },
        "id": "e9aVicPpiwY6",
        "outputId": "827772be-b6d0-4ae1-8643-fb74ff0a2029"
      },
      "outputs": [
        {
          "output_type": "stream",
          "name": "stdout",
          "text": [
            "1341/1341 [==============================] - 14s 9ms/step\n"
          ]
        }
      ],
      "source": [
        "y_pred = model.predict(X_test)"
      ]
    },
    {
      "cell_type": "code",
      "execution_count": 49,
      "metadata": {
        "colab": {
          "base_uri": "https://localhost:8080/"
        },
        "id": "wBlVnRYMiz9e",
        "outputId": "e31ee52a-51d0-4b56-a330-0191bebd28fe"
      },
      "outputs": [
        {
          "output_type": "execute_result",
          "data": {
            "text/plain": [
              "(42912, 20)"
            ]
          },
          "metadata": {},
          "execution_count": 49
        }
      ],
      "source": [
        "y_pred.shape"
      ]
    },
    {
      "cell_type": "code",
      "execution_count": 50,
      "metadata": {
        "colab": {
          "base_uri": "https://localhost:8080/"
        },
        "id": "4d6RLEsOi1jT",
        "outputId": "a6bad948-b009-4454-afe3-37e80a9263b1"
      },
      "outputs": [
        {
          "output_type": "stream",
          "name": "stdout",
          "text": [
            "42912\n"
          ]
        }
      ],
      "source": [
        "y_predicted = []\n",
        "for i in range(y_pred.shape[0]):\n",
        "  y_predicted.append(np.argmax(y_pred[i]))\n",
        "\n",
        "print(len(y_predicted))"
      ]
    },
    {
      "cell_type": "code",
      "execution_count": 51,
      "metadata": {
        "colab": {
          "base_uri": "https://localhost:8080/"
        },
        "id": "Xujg2uCsi5EJ",
        "outputId": "f5248ec3-2aa4-473f-c5c2-2c51c1bdc125"
      },
      "outputs": [
        {
          "output_type": "stream",
          "name": "stdout",
          "text": [
            "              precision    recall  f1-score   support\n",
            "\n",
            "           0       0.62      0.45      0.53      2100\n",
            "           1       0.74      0.73      0.74      2090\n",
            "           2       0.85      0.81      0.83      2178\n",
            "           3       0.90      0.91      0.91      2158\n",
            "           4       0.97      0.95      0.96      2072\n",
            "           5       0.93      0.93      0.93      2141\n",
            "           6       0.93      0.96      0.94      2117\n",
            "           7       0.92      0.96      0.94      2171\n",
            "           8       0.95      0.97      0.96      2156\n",
            "           9       0.92      0.98      0.95      2198\n",
            "          10       0.97      0.99      0.98      2112\n",
            "          11       0.96      0.99      0.97      2167\n",
            "          12       0.96      1.00      0.98      2066\n",
            "          13       0.95      0.98      0.97      2134\n",
            "          14       0.98      0.97      0.98      2146\n",
            "          15       0.98      0.98      0.98      2259\n",
            "          16       0.97      0.99      0.98      2197\n",
            "          17       0.96      0.99      0.98      2200\n",
            "          18       0.99      0.99      0.99      2111\n",
            "          19       0.95      0.99      0.97      2139\n",
            "\n",
            "    accuracy                           0.93     42912\n",
            "   macro avg       0.92      0.93      0.92     42912\n",
            "weighted avg       0.92      0.93      0.92     42912\n",
            "\n"
          ]
        }
      ],
      "source": [
        "from sklearn.metrics import classification_report, confusion_matrix\n",
        "print(classification_report(y_test, y_predicted))"
      ]
    },
    {
      "cell_type": "code",
      "execution_count": 52,
      "metadata": {
        "colab": {
          "base_uri": "https://localhost:8080/",
          "height": 872
        },
        "id": "fgbtdQ4Pi8R3",
        "outputId": "ff3587e7-1bc9-46f8-a51f-0e61f7eab05f"
      },
      "outputs": [
        {
          "output_type": "display_data",
          "data": {
            "text/plain": [
              "<Figure size 1000x1000 with 2 Axes>"
            ],
            "image/png": "[encoded data removed]"
          },
          "metadata": {}
        }
      ],
      "source": [
        "conf_matrix = confusion_matrix(y_test, y_predicted)\n",
        "plt.figure(figsize=(10,10))\n",
        "sns.heatmap(conf_matrix, annot=True, fmt='d', cmap='Blues', xticklabels=[i for i in range(20)], yticklabels=[i for i in range(20)])\n",
        "plt.xlabel('Predicted Labels')\n",
        "plt.ylabel('True Labels')\n",
        "plt.title('Confusion Matrix')\n",
        "plt.show()"
      ]
    },
    {
      "cell_type": "code",
      "execution_count": 52,
      "metadata": {
        "id": "GieEGJGHi_QO"
      },
      "outputs": [],
      "source": []
    }
  ],
  "metadata": {
    "colab": {
      "provenance": [],
      "include_colab_link": true
    },
    "kernelspec": {
      "display_name": "Python 3",
      "name": "python3"
    },
    "language_info": {
      "name": "python"
    }
  },
  "nbformat": 4,
  "nbformat_minor": 0
}