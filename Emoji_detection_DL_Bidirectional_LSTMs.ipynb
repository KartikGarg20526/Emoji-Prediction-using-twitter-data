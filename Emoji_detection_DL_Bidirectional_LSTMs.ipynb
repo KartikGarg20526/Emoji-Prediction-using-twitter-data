{
  "nbformat": 4,
  "nbformat_minor": 0,
  "metadata": {
    "colab": {
      "provenance": [],
      "authorship_tag": "ABX9TyNEQ/pUrkHbfdoN0Ig75R5D",
      "include_colab_link": true
    },
    "kernelspec": {
      "name": "python3",
      "display_name": "Python 3"
    },
    "language_info": {
      "name": "python"
    }
  },
  "cells": [
    {
      "cell_type": "markdown",
      "metadata": {
        "id": "view-in-github",
        "colab_type": "text"
      },
      "source": [
        "<a href=\"https://colab.research.google.com/github/KartikGarg20526/Emoji-Prediction-using-twitter-data/blob/main/Emoji_detection_DL_Bidirectional_LSTMs.ipynb\" target=\"_parent\"><img src=\"https://colab.research.google.com/assets/colab-badge.svg\" alt=\"Open In Colab\"/></a>"
      ]
    },
    {
      "cell_type": "code",
      "source": [
        "import os\n",
        "import numpy as np\n",
        "import pandas as pd\n",
        "import matplotlib.pyplot as plt\n",
        "import seaborn as sns\n",
        "import warnings\n",
        "warnings.filterwarnings(\"ignore\")\n",
        "import re\n",
        "from textblob import TextBlob\n",
        "import nltk\n",
        "nltk.download('stopwords')\n",
        "from nltk.corpus import stopwords\n",
        "nltk.download('punkt')\n",
        "nltk.download('wordnet')\n",
        "from nltk.stem import WordNetLemmatizer\n",
        "from nltk.tokenize import word_tokenize\n",
        "import string\n",
        "import tensorflow as tf\n",
        "from tensorflow import keras"
      ],
      "metadata": {
        "id": "RNG5V6XlIQD7",
        "colab": {
          "base_uri": "https://localhost:8080/"
        },
        "outputId": "ced732bc-a793-4916-cb19-d94ebd94797f"
      },
      "execution_count": null,
      "outputs": [
        {
          "output_type": "stream",
          "name": "stderr",
          "text": [
            "[nltk_data] Downloading package stopwords to /root/nltk_data...\n",
            "[nltk_data]   Unzipping corpora/stopwords.zip.\n",
            "[nltk_data] Downloading package punkt to /root/nltk_data...\n",
            "[nltk_data]   Unzipping tokenizers/punkt.zip.\n",
            "[nltk_data] Downloading package wordnet to /root/nltk_data...\n"
          ]
        }
      ]
    },
    {
      "cell_type": "markdown",
      "source": [
        "# Load Data"
      ],
      "metadata": {
        "id": "KOTOH6bYUpGs"
      }
    },
    {
      "cell_type": "code",
      "source": [
        "tweet_txt_raw = open('/content/us_train.text','r',encoding=\"utf8\")\n",
        "tweet_labels_raw = open('/content/us_train.labels','r',encoding=\"utf8\")\n",
        "\n",
        "tweet_text = []\n",
        "tweet_labels = []\n",
        "\n",
        "for sentence in tweet_txt_raw:\n",
        "    sentence = sentence.rstrip()\n",
        "    tweet_text.append(sentence)\n",
        "\n",
        "for sentence in tweet_labels_raw:\n",
        "    sentence = sentence.rstrip()\n",
        "    sentence = int(sentence)\n",
        "    tweet_labels.append(sentence)\n",
        "\n",
        "df = pd.DataFrame()\n",
        "df[\"Tweet\"] = tweet_text\n",
        "df[\"Label\"] = tweet_labels"
      ],
      "metadata": {
        "id": "SQ8qClG8TkiV"
      },
      "execution_count": null,
      "outputs": []
    },
    {
      "cell_type": "code",
      "source": [
        "df.head()"
      ],
      "metadata": {
        "colab": {
          "base_uri": "https://localhost:8080/",
          "height": 206
        },
        "id": "1Wgl39JRT7Wz",
        "outputId": "a1fbd397-ad29-4525-c942-a434702e2860"
      },
      "execution_count": null,
      "outputs": [
        {
          "output_type": "execute_result",
          "data": {
            "text/plain": [
              "                                               Tweet  Label\n",
              "0  A little throwback with my favourite person @ ...      0\n",
              "1  glam on @user yesterday for #kcon makeup using...      7\n",
              "2  Democracy Plaza in the wake of a stunning outc...     11\n",
              "3   Then &amp; Now. VILO @ Walt Disney Magic Kingdom      0\n",
              "4               Who never... @ A Galaxy Far Far Away      2"
            ],
            "text/html": [
              "\n",
              "  <div id=\"df-3270fa9d-be23-4706-b6b5-97924b9b4510\" class=\"colab-df-container\">\n",
              "    <div>\n",
              "<style scoped>\n",
              "    .dataframe tbody tr th:only-of-type {\n",
              "        vertical-align: middle;\n",
              "    }\n",
              "\n",
              "    .dataframe tbody tr th {\n",
              "        vertical-align: top;\n",
              "    }\n",
              "\n",
              "    .dataframe thead th {\n",
              "        text-align: right;\n",
              "    }\n",
              "</style>\n",
              "<table border=\"1\" class=\"dataframe\">\n",
              "  <thead>\n",
              "    <tr style=\"text-align: right;\">\n",
              "      <th></th>\n",
              "      <th>Tweet</th>\n",
              "      <th>Label</th>\n",
              "    </tr>\n",
              "  </thead>\n",
              "  <tbody>\n",
              "    <tr>\n",
              "      <th>0</th>\n",
              "      <td>A little throwback with my favourite person @ ...</td>\n",
              "      <td>0</td>\n",
              "    </tr>\n",
              "    <tr>\n",
              "      <th>1</th>\n",
              "      <td>glam on @user yesterday for #kcon makeup using...</td>\n",
              "      <td>7</td>\n",
              "    </tr>\n",
              "    <tr>\n",
              "      <th>2</th>\n",
              "      <td>Democracy Plaza in the wake of a stunning outc...</td>\n",
              "      <td>11</td>\n",
              "    </tr>\n",
              "    <tr>\n",
              "      <th>3</th>\n",
              "      <td>Then &amp;amp; Now. VILO @ Walt Disney Magic Kingdom</td>\n",
              "      <td>0</td>\n",
              "    </tr>\n",
              "    <tr>\n",
              "      <th>4</th>\n",
              "      <td>Who never... @ A Galaxy Far Far Away</td>\n",
              "      <td>2</td>\n",
              "    </tr>\n",
              "  </tbody>\n",
              "</table>\n",
              "</div>\n",
              "    <div class=\"colab-df-buttons\">\n",
              "\n",
              "  <div class=\"colab-df-container\">\n",
              "    <button class=\"colab-df-convert\" onclick=\"convertToInteractive('df-3270fa9d-be23-4706-b6b5-97924b9b4510')\"\n",
              "            title=\"Convert this dataframe to an interactive table.\"\n",
              "            style=\"display:none;\">\n",
              "\n",
              "  <svg xmlns=\"http://www.w3.org/2000/svg\" height=\"24px\" viewBox=\"0 -960 960 960\">\n",
              "    <path d=\"M120-120v-720h720v720H120Zm60-500h600v-160H180v160Zm220 220h160v-160H400v160Zm0 220h160v-160H400v160ZM180-400h160v-160H180v160Zm440 0h160v-160H620v160ZM180-180h160v-160H180v160Zm440 0h160v-160H620v160Z\"/>\n",
              "  </svg>\n",
              "    </button>\n",
              "\n",
              "  <style>\n",
              "    .colab-df-container {\n",
              "      display:flex;\n",
              "      gap: 12px;\n",
              "    }\n",
              "\n",
              "    .colab-df-convert {\n",
              "      background-color: #E8F0FE;\n",
              "      border: none;\n",
              "      border-radius: 50%;\n",
              "      cursor: pointer;\n",
              "      display: none;\n",
              "      fill: #1967D2;\n",
              "      height: 32px;\n",
              "      padding: 0 0 0 0;\n",
              "      width: 32px;\n",
              "    }\n",
              "\n",
              "    .colab-df-convert:hover {\n",
              "      background-color: #E2EBFA;\n",
              "      box-shadow: 0px 1px 2px rgba(60, 64, 67, 0.3), 0px 1px 3px 1px rgba(60, 64, 67, 0.15);\n",
              "      fill: #174EA6;\n",
              "    }\n",
              "\n",
              "    .colab-df-buttons div {\n",
              "      margin-bottom: 4px;\n",
              "    }\n",
              "\n",
              "    [theme=dark] .colab-df-convert {\n",
              "      background-color: #3B4455;\n",
              "      fill: #D2E3FC;\n",
              "    }\n",
              "\n",
              "    [theme=dark] .colab-df-convert:hover {\n",
              "      background-color: #434B5C;\n",
              "      box-shadow: 0px 1px 3px 1px rgba(0, 0, 0, 0.15);\n",
              "      filter: drop-shadow(0px 1px 2px rgba(0, 0, 0, 0.3));\n",
              "      fill: #FFFFFF;\n",
              "    }\n",
              "  </style>\n",
              "\n",
              "    <script>\n",
              "      const buttonEl =\n",
              "        document.querySelector('#df-3270fa9d-be23-4706-b6b5-97924b9b4510 button.colab-df-convert');\n",
              "      buttonEl.style.display =\n",
              "        google.colab.kernel.accessAllowed ? 'block' : 'none';\n",
              "\n",
              "      async function convertToInteractive(key) {\n",
              "        const element = document.querySelector('#df-3270fa9d-be23-4706-b6b5-97924b9b4510');\n",
              "        const dataTable =\n",
              "          await google.colab.kernel.invokeFunction('convertToInteractive',\n",
              "                                                    [key], {});\n",
              "        if (!dataTable) return;\n",
              "\n",
              "        const docLinkHtml = 'Like what you see? Visit the ' +\n",
              "          '<a target=\"_blank\" href=https://colab.research.google.com/notebooks/data_table.ipynb>data table notebook</a>'\n",
              "          + ' to learn more about interactive tables.';\n",
              "        element.innerHTML = '';\n",
              "        dataTable['output_type'] = 'display_data';\n",
              "        await google.colab.output.renderOutput(dataTable, element);\n",
              "        const docLink = document.createElement('div');\n",
              "        docLink.innerHTML = docLinkHtml;\n",
              "        element.appendChild(docLink);\n",
              "      }\n",
              "    </script>\n",
              "  </div>\n",
              "\n",
              "\n",
              "<div id=\"df-73218466-1c87-438b-b22a-f95c66f63955\">\n",
              "  <button class=\"colab-df-quickchart\" onclick=\"quickchart('df-73218466-1c87-438b-b22a-f95c66f63955')\"\n",
              "            title=\"Suggest charts\"\n",
              "            style=\"display:none;\">\n",
              "\n",
              "<svg xmlns=\"http://www.w3.org/2000/svg\" height=\"24px\"viewBox=\"0 0 24 24\"\n",
              "     width=\"24px\">\n",
              "    <g>\n",
              "        <path d=\"M19 3H5c-1.1 0-2 .9-2 2v14c0 1.1.9 2 2 2h14c1.1 0 2-.9 2-2V5c0-1.1-.9-2-2-2zM9 17H7v-7h2v7zm4 0h-2V7h2v10zm4 0h-2v-4h2v4z\"/>\n",
              "    </g>\n",
              "</svg>\n",
              "  </button>\n",
              "\n",
              "<style>\n",
              "  .colab-df-quickchart {\n",
              "      --bg-color: #E8F0FE;\n",
              "      --fill-color: #1967D2;\n",
              "      --hover-bg-color: #E2EBFA;\n",
              "      --hover-fill-color: #174EA6;\n",
              "      --disabled-fill-color: #AAA;\n",
              "      --disabled-bg-color: #DDD;\n",
              "  }\n",
              "\n",
              "  [theme=dark] .colab-df-quickchart {\n",
              "      --bg-color: #3B4455;\n",
              "      --fill-color: #D2E3FC;\n",
              "      --hover-bg-color: #434B5C;\n",
              "      --hover-fill-color: #FFFFFF;\n",
              "      --disabled-bg-color: #3B4455;\n",
              "      --disabled-fill-color: #666;\n",
              "  }\n",
              "\n",
              "  .colab-df-quickchart {\n",
              "    background-color: var(--bg-color);\n",
              "    border: none;\n",
              "    border-radius: 50%;\n",
              "    cursor: pointer;\n",
              "    display: none;\n",
              "    fill: var(--fill-color);\n",
              "    height: 32px;\n",
              "    padding: 0;\n",
              "    width: 32px;\n",
              "  }\n",
              "\n",
              "  .colab-df-quickchart:hover {\n",
              "    background-color: var(--hover-bg-color);\n",
              "    box-shadow: 0 1px 2px rgba(60, 64, 67, 0.3), 0 1px 3px 1px rgba(60, 64, 67, 0.15);\n",
              "    fill: var(--button-hover-fill-color);\n",
              "  }\n",
              "\n",
              "  .colab-df-quickchart-complete:disabled,\n",
              "  .colab-df-quickchart-complete:disabled:hover {\n",
              "    background-color: var(--disabled-bg-color);\n",
              "    fill: var(--disabled-fill-color);\n",
              "    box-shadow: none;\n",
              "  }\n",
              "\n",
              "  .colab-df-spinner {\n",
              "    border: 2px solid var(--fill-color);\n",
              "    border-color: transparent;\n",
              "    border-bottom-color: var(--fill-color);\n",
              "    animation:\n",
              "      spin 1s steps(1) infinite;\n",
              "  }\n",
              "\n",
              "  @keyframes spin {\n",
              "    0% {\n",
              "      border-color: transparent;\n",
              "      border-bottom-color: var(--fill-color);\n",
              "      border-left-color: var(--fill-color);\n",
              "    }\n",
              "    20% {\n",
              "      border-color: transparent;\n",
              "      border-left-color: var(--fill-color);\n",
              "      border-top-color: var(--fill-color);\n",
              "    }\n",
              "    30% {\n",
              "      border-color: transparent;\n",
              "      border-left-color: var(--fill-color);\n",
              "      border-top-color: var(--fill-color);\n",
              "      border-right-color: var(--fill-color);\n",
              "    }\n",
              "    40% {\n",
              "      border-color: transparent;\n",
              "      border-right-color: var(--fill-color);\n",
              "      border-top-color: var(--fill-color);\n",
              "    }\n",
              "    60% {\n",
              "      border-color: transparent;\n",
              "      border-right-color: var(--fill-color);\n",
              "    }\n",
              "    80% {\n",
              "      border-color: transparent;\n",
              "      border-right-color: var(--fill-color);\n",
              "      border-bottom-color: var(--fill-color);\n",
              "    }\n",
              "    90% {\n",
              "      border-color: transparent;\n",
              "      border-bottom-color: var(--fill-color);\n",
              "    }\n",
              "  }\n",
              "</style>\n",
              "\n",
              "  <script>\n",
              "    async function quickchart(key) {\n",
              "      const quickchartButtonEl =\n",
              "        document.querySelector('#' + key + ' button');\n",
              "      quickchartButtonEl.disabled = true;  // To prevent multiple clicks.\n",
              "      quickchartButtonEl.classList.add('colab-df-spinner');\n",
              "      try {\n",
              "        const charts = await google.colab.kernel.invokeFunction(\n",
              "            'suggestCharts', [key], {});\n",
              "      } catch (error) {\n",
              "        console.error('Error during call to suggestCharts:', error);\n",
              "      }\n",
              "      quickchartButtonEl.classList.remove('colab-df-spinner');\n",
              "      quickchartButtonEl.classList.add('colab-df-quickchart-complete');\n",
              "    }\n",
              "    (() => {\n",
              "      let quickchartButtonEl =\n",
              "        document.querySelector('#df-73218466-1c87-438b-b22a-f95c66f63955 button');\n",
              "      quickchartButtonEl.style.display =\n",
              "        google.colab.kernel.accessAllowed ? 'block' : 'none';\n",
              "    })();\n",
              "  </script>\n",
              "</div>\n",
              "\n",
              "    </div>\n",
              "  </div>\n"
            ]
          },
          "metadata": {},
          "execution_count": 3
        }
      ]
    },
    {
      "cell_type": "code",
      "source": [
        "print(\"Shape of the dataset : \", df.shape)"
      ],
      "metadata": {
        "colab": {
          "base_uri": "https://localhost:8080/"
        },
        "id": "crBhZgb9UZBV",
        "outputId": "d9428831-9e65-4cb0-bd66-087e3b23ceeb"
      },
      "execution_count": null,
      "outputs": [
        {
          "output_type": "stream",
          "name": "stdout",
          "text": [
            "Shape of the dataset :  (50000, 2)\n"
          ]
        }
      ]
    },
    {
      "cell_type": "markdown",
      "source": [
        "# Emoji Mapping"
      ],
      "metadata": {
        "id": "cokYk2liU_8a"
      }
    },
    {
      "cell_type": "code",
      "source": [
        "emoji_raw = open('/content/us_mapping.txt','r',encoding=\"utf8\")\n",
        "\n",
        "emoji = []\n",
        "label = []\n",
        "meaning = []\n",
        "for sentence in emoji_raw:\n",
        "    print(sentence)\n",
        "    sentence = sentence.rstrip()\n",
        "    label.append(sentence.split()[0])\n",
        "    emoji.append(sentence.split()[1])\n",
        "    meaning.append(sentence.split()[2:])\n",
        "\n",
        "emoji_map = pd.DataFrame()\n",
        "emoji_map['Label'] = label\n",
        "emoji_map['Emoji'] = emoji\n",
        "emoji_map['Meaning'] = meaning"
      ],
      "metadata": {
        "colab": {
          "base_uri": "https://localhost:8080/"
        },
        "id": "bySlOID5UjPE",
        "outputId": "703ebc7e-1ffe-42d3-f5de-ae89bb3a0326"
      },
      "execution_count": null,
      "outputs": [
        {
          "output_type": "stream",
          "name": "stdout",
          "text": [
            "0\t❤️\t Red heart\t\n",
            "\n",
            "1\t😍\t Smiling face with hearteyes\t\n",
            "\n",
            "2\t😂\t Face with tears of joy\t\n",
            "\n",
            "3\t💕\t Two hearts\n",
            "\n",
            "4\t🔥\t Fire\n",
            "\n",
            "5\t😊\t Smiling face with smiling eyes\t\n",
            "\n",
            "6\t😎\t Smiling face with sunglasses\t\n",
            "\n",
            "7\t✨\t Sparkles \t\n",
            "\n",
            "8\t💙\t Blue heart\n",
            "\n",
            "9\t😘\t Face blowing a kiss\t\n",
            "\n",
            "10\t📷\t Camera\t\n",
            "\n",
            "11\t🇺🇸\t United States\t\n",
            "\n",
            "12\t☀️\t Sun\n",
            "\n",
            "13\t💜\t Purple heart \t\n",
            "\n",
            "14\t😉\t Winking face\t\n",
            "\n",
            "15\t💯\t Hundred points\t\n",
            "\n",
            "16\t😁\t Beaming face with smiling eyes\t\n",
            "\n",
            "17\t🎄\tChristmas tree\t\n",
            "\n",
            "18\t📸\tCamera with flash\n",
            "\n",
            "19\t😜\tWinking face with tongue\t\n",
            "\n"
          ]
        }
      ]
    },
    {
      "cell_type": "code",
      "source": [
        "print(emoji_map)"
      ],
      "metadata": {
        "colab": {
          "base_uri": "https://localhost:8080/"
        },
        "id": "o705v0HwZnUe",
        "outputId": "56ef2302-5a09-440b-f74e-c469ffe31c40"
      },
      "execution_count": null,
      "outputs": [
        {
          "output_type": "stream",
          "name": "stdout",
          "text": [
            "   Label Emoji                               Meaning\n",
            "0      0    ❤️                          [Red, heart]\n",
            "1      1     😍      [Smiling, face, with, hearteyes]\n",
            "2      2     😂          [Face, with, tears, of, joy]\n",
            "3      3     💕                         [Two, hearts]\n",
            "4      4     🔥                                [Fire]\n",
            "5      5     😊  [Smiling, face, with, smiling, eyes]\n",
            "6      6     😎     [Smiling, face, with, sunglasses]\n",
            "7      7     ✨                            [Sparkles]\n",
            "8      8     💙                         [Blue, heart]\n",
            "9      9     😘              [Face, blowing, a, kiss]\n",
            "10    10     📷                              [Camera]\n",
            "11    11    🇺🇸                      [United, States]\n",
            "12    12    ☀️                                 [Sun]\n",
            "13    13     💜                       [Purple, heart]\n",
            "14    14     😉                       [Winking, face]\n",
            "15    15     💯                     [Hundred, points]\n",
            "16    16     😁  [Beaming, face, with, smiling, eyes]\n",
            "17    17     🎄                     [Christmas, tree]\n",
            "18    18     📸                 [Camera, with, flash]\n",
            "19    19     😜         [Winking, face, with, tongue]\n"
          ]
        }
      ]
    },
    {
      "cell_type": "code",
      "source": [
        "plt.figure(figsize=(8,5))\n",
        "sns.countplot(x=df['Label'], palette=\"plasma\")\n",
        "plt.show()"
      ],
      "metadata": {
        "colab": {
          "base_uri": "https://localhost:8080/",
          "height": 465
        },
        "id": "HhvBlsT_VLBW",
        "outputId": "9a7bc239-b2bc-4cf5-af68-32568965032a"
      },
      "execution_count": null,
      "outputs": [
        {
          "output_type": "display_data",
          "data": {
            "text/plain": [
              "<Figure size 800x500 with 1 Axes>"
            ],
            "image/png": "[encoded data removed]"
          },
          "metadata": {}
        }
      ]
    },
    {
      "cell_type": "code",
      "source": [
        "# Checking if our data has duplicated rows\n",
        "print(\"Duplicated Rows : \", df.duplicated().sum())"
      ],
      "metadata": {
        "id": "oxLuHoHjeS3Q",
        "colab": {
          "base_uri": "https://localhost:8080/"
        },
        "outputId": "ef210068-80c0-4ce1-cf35-c2a4da4bf64c"
      },
      "execution_count": null,
      "outputs": [
        {
          "output_type": "stream",
          "name": "stdout",
          "text": [
            "Duplicated Rows :  116\n"
          ]
        }
      ]
    },
    {
      "cell_type": "code",
      "source": [
        "# Dropping duplicated rows\n",
        "df = df.drop_duplicates()"
      ],
      "metadata": {
        "id": "NG4esM4bySBL"
      },
      "execution_count": null,
      "outputs": []
    },
    {
      "cell_type": "code",
      "source": [
        "# Reseting the indexes after dropping some rows\n",
        "df = df.reset_index(drop=True)"
      ],
      "metadata": {
        "id": "cMwINKVFysyD"
      },
      "execution_count": null,
      "outputs": []
    },
    {
      "cell_type": "code",
      "source": [
        "print(\"Shape of the data : \", df.shape)"
      ],
      "metadata": {
        "colab": {
          "base_uri": "https://localhost:8080/"
        },
        "id": "i7VuarAyyj7n",
        "outputId": "08514d7c-97b9-4dab-e8d5-f3a64446cf90"
      },
      "execution_count": null,
      "outputs": [
        {
          "output_type": "stream",
          "name": "stdout",
          "text": [
            "Shape of the data :  (49884, 2)\n"
          ]
        }
      ]
    },
    {
      "cell_type": "markdown",
      "source": [
        "Checking of there is some correlation between tweet length and Label data"
      ],
      "metadata": {
        "id": "-OsFuwrQiN4V"
      }
    },
    {
      "cell_type": "code",
      "source": [
        "tweet_len = []\n",
        "for sen in df['Tweet']:\n",
        "  tweet_len.append(len(sen))\n",
        "\n",
        "new_df = pd.DataFrame()\n",
        "new_df['Tweet_Length'] = tweet_len\n",
        "\n",
        "sns.histplot(tweet_len)\n",
        "plt.show()"
      ],
      "metadata": {
        "colab": {
          "base_uri": "https://localhost:8080/",
          "height": 430
        },
        "id": "r597CO6aWdDZ",
        "outputId": "7130009e-30bc-4a3e-cfb1-8fad7f7dd74a"
      },
      "execution_count": null,
      "outputs": [
        {
          "output_type": "display_data",
          "data": {
            "text/plain": [
              "<Figure size 640x480 with 1 Axes>"
            ],
            "image/png": "[encoded data removed]"
          },
          "metadata": {}
        }
      ]
    },
    {
      "cell_type": "code",
      "source": [
        "corr = df['Label'].corr(new_df['Tweet_Length'])\n",
        "print(\"Correlation between tweet length and label : \", corr)"
      ],
      "metadata": {
        "colab": {
          "base_uri": "https://localhost:8080/"
        },
        "id": "sGwe61hScYIF",
        "outputId": "449401a5-7ff8-499b-81e4-8c6770a9689e"
      },
      "execution_count": null,
      "outputs": [
        {
          "output_type": "stream",
          "name": "stdout",
          "text": [
            "Correlation between tweet length and label :  0.023448833195926666\n"
          ]
        }
      ]
    },
    {
      "cell_type": "markdown",
      "source": [
        "Correlation between Tweet length and Label is very low."
      ],
      "metadata": {
        "id": "ro26T5lqhOjI"
      }
    },
    {
      "cell_type": "markdown",
      "source": [
        "# Preprocessing"
      ],
      "metadata": {
        "id": "85VJZOeDm654"
      }
    },
    {
      "cell_type": "code",
      "source": [
        "def lowercase(tweet):\n",
        "  tweet = str(tweet)\n",
        "  return tweet.lower()"
      ],
      "metadata": {
        "id": "TE4nGnz_z6f_"
      },
      "execution_count": null,
      "outputs": []
    },
    {
      "cell_type": "code",
      "source": [
        "def remove_html_tags(tweet):\n",
        "    tweet = str(tweet)\n",
        "    pattern = re.compile('<.*?>')\n",
        "    return pattern.sub(r'', tweet)"
      ],
      "metadata": {
        "id": "gN_JKdShz_rf"
      },
      "execution_count": null,
      "outputs": []
    },
    {
      "cell_type": "code",
      "source": [
        "def remove_url(tweet):\n",
        "    tweet = str(tweet)\n",
        "    pattern = re.compile(r'https?://\\S+|www\\.\\S+')\n",
        "    return pattern.sub(r'', tweet)"
      ],
      "metadata": {
        "id": "oI9CEz4d0Ie3"
      },
      "execution_count": null,
      "outputs": []
    },
    {
      "cell_type": "code",
      "source": [
        "def remove_punctuations(tweet):\n",
        "    tweet = str(tweet)\n",
        "    exclude = string.punctuation\n",
        "    return tweet.translate(str.maketrans('', '', exclude))"
      ],
      "metadata": {
        "id": "UCWkZpZ70Nad"
      },
      "execution_count": null,
      "outputs": []
    },
    {
      "cell_type": "code",
      "source": [
        "def remove_mentions(tweet):\n",
        "    return re.sub(r'@[A-Za-z0-9_]+', '', tweet)"
      ],
      "metadata": {
        "id": "BLmnF8vc1epL"
      },
      "execution_count": null,
      "outputs": []
    },
    {
      "cell_type": "code",
      "source": [
        "def remove_stopwords(tweet):\n",
        "    tweet = str(tweet)\n",
        "    tweet_words = []\n",
        "\n",
        "    for word in tweet.split():\n",
        "        if word in stopwords.words('english'):\n",
        "            tweet_words.append('')\n",
        "        else:\n",
        "            tweet_words.append(word)\n",
        "    return ' '.join(tweet_words)"
      ],
      "metadata": {
        "id": "awQ8g-090lZ8"
      },
      "execution_count": null,
      "outputs": []
    },
    {
      "cell_type": "code",
      "source": [
        "def remove_numbers(tweet):\n",
        "    tweet = str(tweet)\n",
        "    return re.sub(r'\\d+', '', tweet)"
      ],
      "metadata": {
        "id": "pqNdI4kB3gJl"
      },
      "execution_count": null,
      "outputs": []
    },
    {
      "cell_type": "code",
      "source": [
        "def lemmatize_text(text):\n",
        "    lemmatizer = WordNetLemmatizer()\n",
        "    lemmatized_words = []\n",
        "    for w in word_tokenize(text):\n",
        "        lemmatized_words.append(lemmatizer.lemmatize(w))\n",
        "    return \" \".join(lemmatized_words)"
      ],
      "metadata": {
        "id": "vns2OONH4ra4"
      },
      "execution_count": null,
      "outputs": []
    },
    {
      "cell_type": "code",
      "source": [
        "def preprocessing(data):\n",
        "  df['Tweet'] = df['Tweet'].apply(lowercase)            # converting to lowercase\n",
        "  df['Tweet'] = df['Tweet'].apply(remove_html_tags)     # removing html tags\n",
        "  df['Tweet'] = df['Tweet'].apply(remove_url)           # removing Urls\n",
        "  df['Tweet'] = df['Tweet'].apply(remove_punctuations)  # removing punctutations\n",
        "  df['Tweet'] = df['Tweet'].apply(remove_mentions)      # removing @ mentions\n",
        "  df['Tweet'] = df['Tweet'].apply(remove_stopwords)     # removing stopwords\n",
        "  df['Tweet'] = df['Tweet'].apply(remove_numbers)       # removing numbers\n",
        "  df['Tweet'] = df['Tweet'].apply(lemmatize_text)       # applying lemmatization"
      ],
      "metadata": {
        "id": "hUu_EKjhylH0"
      },
      "execution_count": null,
      "outputs": []
    },
    {
      "cell_type": "code",
      "source": [
        "preprocessing(df)"
      ],
      "metadata": {
        "id": "G6cymHk76c9w"
      },
      "execution_count": null,
      "outputs": []
    },
    {
      "cell_type": "code",
      "source": [
        "df.head()"
      ],
      "metadata": {
        "colab": {
          "base_uri": "https://localhost:8080/",
          "height": 206
        },
        "id": "9WsdjX5c6l54",
        "outputId": "b105e6c0-c5b9-4d6a-d105-a3971db6a74b"
      },
      "execution_count": null,
      "outputs": [
        {
          "output_type": "execute_result",
          "data": {
            "text/plain": [
              "                                               Tweet  Label\n",
              "0       little throwback favourite person water wall      0\n",
              "1  glam user yesterday kcon makeup using user fea...      7\n",
              "2  democracy plaza wake stunning outcome decision...     11\n",
              "3                 amp vilo walt disney magic kingdom      0\n",
              "4                          never galaxy far far away      2"
            ],
            "text/html": [
              "\n",
              "  <div id=\"df-2165baec-077a-4e8b-b5ad-ae64d05de2d5\" class=\"colab-df-container\">\n",
              "    <div>\n",
              "<style scoped>\n",
              "    .dataframe tbody tr th:only-of-type {\n",
              "        vertical-align: middle;\n",
              "    }\n",
              "\n",
              "    .dataframe tbody tr th {\n",
              "        vertical-align: top;\n",
              "    }\n",
              "\n",
              "    .dataframe thead th {\n",
              "        text-align: right;\n",
              "    }\n",
              "</style>\n",
              "<table border=\"1\" class=\"dataframe\">\n",
              "  <thead>\n",
              "    <tr style=\"text-align: right;\">\n",
              "      <th></th>\n",
              "      <th>Tweet</th>\n",
              "      <th>Label</th>\n",
              "    </tr>\n",
              "  </thead>\n",
              "  <tbody>\n",
              "    <tr>\n",
              "      <th>0</th>\n",
              "      <td>little throwback favourite person water wall</td>\n",
              "      <td>0</td>\n",
              "    </tr>\n",
              "    <tr>\n",
              "      <th>1</th>\n",
              "      <td>glam user yesterday kcon makeup using user fea...</td>\n",
              "      <td>7</td>\n",
              "    </tr>\n",
              "    <tr>\n",
              "      <th>2</th>\n",
              "      <td>democracy plaza wake stunning outcome decision...</td>\n",
              "      <td>11</td>\n",
              "    </tr>\n",
              "    <tr>\n",
              "      <th>3</th>\n",
              "      <td>amp vilo walt disney magic kingdom</td>\n",
              "      <td>0</td>\n",
              "    </tr>\n",
              "    <tr>\n",
              "      <th>4</th>\n",
              "      <td>never galaxy far far away</td>\n",
              "      <td>2</td>\n",
              "    </tr>\n",
              "  </tbody>\n",
              "</table>\n",
              "</div>\n",
              "    <div class=\"colab-df-buttons\">\n",
              "\n",
              "  <div class=\"colab-df-container\">\n",
              "    <button class=\"colab-df-convert\" onclick=\"convertToInteractive('df-2165baec-077a-4e8b-b5ad-ae64d05de2d5')\"\n",
              "            title=\"Convert this dataframe to an interactive table.\"\n",
              "            style=\"display:none;\">\n",
              "\n",
              "  <svg xmlns=\"http://www.w3.org/2000/svg\" height=\"24px\" viewBox=\"0 -960 960 960\">\n",
              "    <path d=\"M120-120v-720h720v720H120Zm60-500h600v-160H180v160Zm220 220h160v-160H400v160Zm0 220h160v-160H400v160ZM180-400h160v-160H180v160Zm440 0h160v-160H620v160ZM180-180h160v-160H180v160Zm440 0h160v-160H620v160Z\"/>\n",
              "  </svg>\n",
              "    </button>\n",
              "\n",
              "  <style>\n",
              "    .colab-df-container {\n",
              "      display:flex;\n",
              "      gap: 12px;\n",
              "    }\n",
              "\n",
              "    .colab-df-convert {\n",
              "      background-color: #E8F0FE;\n",
              "      border: none;\n",
              "      border-radius: 50%;\n",
              "      cursor: pointer;\n",
              "      display: none;\n",
              "      fill: #1967D2;\n",
              "      height: 32px;\n",
              "      padding: 0 0 0 0;\n",
              "      width: 32px;\n",
              "    }\n",
              "\n",
              "    .colab-df-convert:hover {\n",
              "      background-color: #E2EBFA;\n",
              "      box-shadow: 0px 1px 2px rgba(60, 64, 67, 0.3), 0px 1px 3px 1px rgba(60, 64, 67, 0.15);\n",
              "      fill: #174EA6;\n",
              "    }\n",
              "\n",
              "    .colab-df-buttons div {\n",
              "      margin-bottom: 4px;\n",
              "    }\n",
              "\n",
              "    [theme=dark] .colab-df-convert {\n",
              "      background-color: #3B4455;\n",
              "      fill: #D2E3FC;\n",
              "    }\n",
              "\n",
              "    [theme=dark] .colab-df-convert:hover {\n",
              "      background-color: #434B5C;\n",
              "      box-shadow: 0px 1px 3px 1px rgba(0, 0, 0, 0.15);\n",
              "      filter: drop-shadow(0px 1px 2px rgba(0, 0, 0, 0.3));\n",
              "      fill: #FFFFFF;\n",
              "    }\n",
              "  </style>\n",
              "\n",
              "    <script>\n",
              "      const buttonEl =\n",
              "        document.querySelector('#df-2165baec-077a-4e8b-b5ad-ae64d05de2d5 button.colab-df-convert');\n",
              "      buttonEl.style.display =\n",
              "        google.colab.kernel.accessAllowed ? 'block' : 'none';\n",
              "\n",
              "      async function convertToInteractive(key) {\n",
              "        const element = document.querySelector('#df-2165baec-077a-4e8b-b5ad-ae64d05de2d5');\n",
              "        const dataTable =\n",
              "          await google.colab.kernel.invokeFunction('convertToInteractive',\n",
              "                                                    [key], {});\n",
              "        if (!dataTable) return;\n",
              "\n",
              "        const docLinkHtml = 'Like what you see? Visit the ' +\n",
              "          '<a target=\"_blank\" href=https://colab.research.google.com/notebooks/data_table.ipynb>data table notebook</a>'\n",
              "          + ' to learn more about interactive tables.';\n",
              "        element.innerHTML = '';\n",
              "        dataTable['output_type'] = 'display_data';\n",
              "        await google.colab.output.renderOutput(dataTable, element);\n",
              "        const docLink = document.createElement('div');\n",
              "        docLink.innerHTML = docLinkHtml;\n",
              "        element.appendChild(docLink);\n",
              "      }\n",
              "    </script>\n",
              "  </div>\n",
              "\n",
              "\n",
              "<div id=\"df-f4e59001-9453-47b1-9166-d3e08cce3320\">\n",
              "  <button class=\"colab-df-quickchart\" onclick=\"quickchart('df-f4e59001-9453-47b1-9166-d3e08cce3320')\"\n",
              "            title=\"Suggest charts\"\n",
              "            style=\"display:none;\">\n",
              "\n",
              "<svg xmlns=\"http://www.w3.org/2000/svg\" height=\"24px\"viewBox=\"0 0 24 24\"\n",
              "     width=\"24px\">\n",
              "    <g>\n",
              "        <path d=\"M19 3H5c-1.1 0-2 .9-2 2v14c0 1.1.9 2 2 2h14c1.1 0 2-.9 2-2V5c0-1.1-.9-2-2-2zM9 17H7v-7h2v7zm4 0h-2V7h2v10zm4 0h-2v-4h2v4z\"/>\n",
              "    </g>\n",
              "</svg>\n",
              "  </button>\n",
              "\n",
              "<style>\n",
              "  .colab-df-quickchart {\n",
              "      --bg-color: #E8F0FE;\n",
              "      --fill-color: #1967D2;\n",
              "      --hover-bg-color: #E2EBFA;\n",
              "      --hover-fill-color: #174EA6;\n",
              "      --disabled-fill-color: #AAA;\n",
              "      --disabled-bg-color: #DDD;\n",
              "  }\n",
              "\n",
              "  [theme=dark] .colab-df-quickchart {\n",
              "      --bg-color: #3B4455;\n",
              "      --fill-color: #D2E3FC;\n",
              "      --hover-bg-color: #434B5C;\n",
              "      --hover-fill-color: #FFFFFF;\n",
              "      --disabled-bg-color: #3B4455;\n",
              "      --disabled-fill-color: #666;\n",
              "  }\n",
              "\n",
              "  .colab-df-quickchart {\n",
              "    background-color: var(--bg-color);\n",
              "    border: none;\n",
              "    border-radius: 50%;\n",
              "    cursor: pointer;\n",
              "    display: none;\n",
              "    fill: var(--fill-color);\n",
              "    height: 32px;\n",
              "    padding: 0;\n",
              "    width: 32px;\n",
              "  }\n",
              "\n",
              "  .colab-df-quickchart:hover {\n",
              "    background-color: var(--hover-bg-color);\n",
              "    box-shadow: 0 1px 2px rgba(60, 64, 67, 0.3), 0 1px 3px 1px rgba(60, 64, 67, 0.15);\n",
              "    fill: var(--button-hover-fill-color);\n",
              "  }\n",
              "\n",
              "  .colab-df-quickchart-complete:disabled,\n",
              "  .colab-df-quickchart-complete:disabled:hover {\n",
              "    background-color: var(--disabled-bg-color);\n",
              "    fill: var(--disabled-fill-color);\n",
              "    box-shadow: none;\n",
              "  }\n",
              "\n",
              "  .colab-df-spinner {\n",
              "    border: 2px solid var(--fill-color);\n",
              "    border-color: transparent;\n",
              "    border-bottom-color: var(--fill-color);\n",
              "    animation:\n",
              "      spin 1s steps(1) infinite;\n",
              "  }\n",
              "\n",
              "  @keyframes spin {\n",
              "    0% {\n",
              "      border-color: transparent;\n",
              "      border-bottom-color: var(--fill-color);\n",
              "      border-left-color: var(--fill-color);\n",
              "    }\n",
              "    20% {\n",
              "      border-color: transparent;\n",
              "      border-left-color: var(--fill-color);\n",
              "      border-top-color: var(--fill-color);\n",
              "    }\n",
              "    30% {\n",
              "      border-color: transparent;\n",
              "      border-left-color: var(--fill-color);\n",
              "      border-top-color: var(--fill-color);\n",
              "      border-right-color: var(--fill-color);\n",
              "    }\n",
              "    40% {\n",
              "      border-color: transparent;\n",
              "      border-right-color: var(--fill-color);\n",
              "      border-top-color: var(--fill-color);\n",
              "    }\n",
              "    60% {\n",
              "      border-color: transparent;\n",
              "      border-right-color: var(--fill-color);\n",
              "    }\n",
              "    80% {\n",
              "      border-color: transparent;\n",
              "      border-right-color: var(--fill-color);\n",
              "      border-bottom-color: var(--fill-color);\n",
              "    }\n",
              "    90% {\n",
              "      border-color: transparent;\n",
              "      border-bottom-color: var(--fill-color);\n",
              "    }\n",
              "  }\n",
              "</style>\n",
              "\n",
              "  <script>\n",
              "    async function quickchart(key) {\n",
              "      const quickchartButtonEl =\n",
              "        document.querySelector('#' + key + ' button');\n",
              "      quickchartButtonEl.disabled = true;  // To prevent multiple clicks.\n",
              "      quickchartButtonEl.classList.add('colab-df-spinner');\n",
              "      try {\n",
              "        const charts = await google.colab.kernel.invokeFunction(\n",
              "            'suggestCharts', [key], {});\n",
              "      } catch (error) {\n",
              "        console.error('Error during call to suggestCharts:', error);\n",
              "      }\n",
              "      quickchartButtonEl.classList.remove('colab-df-spinner');\n",
              "      quickchartButtonEl.classList.add('colab-df-quickchart-complete');\n",
              "    }\n",
              "    (() => {\n",
              "      let quickchartButtonEl =\n",
              "        document.querySelector('#df-f4e59001-9453-47b1-9166-d3e08cce3320 button');\n",
              "      quickchartButtonEl.style.display =\n",
              "        google.colab.kernel.accessAllowed ? 'block' : 'none';\n",
              "    })();\n",
              "  </script>\n",
              "</div>\n",
              "\n",
              "    </div>\n",
              "  </div>\n"
            ]
          },
          "metadata": {},
          "execution_count": 24
        }
      ]
    },
    {
      "cell_type": "markdown",
      "source": [
        "# Sentiment Analysis"
      ],
      "metadata": {
        "id": "8ZpzwRQUIL2Q"
      }
    },
    {
      "cell_type": "code",
      "source": [
        "!pip install vaderSentiment\n",
        "from vaderSentiment.vaderSentiment import SentimentIntensityAnalyzer"
      ],
      "metadata": {
        "colab": {
          "base_uri": "https://localhost:8080/"
        },
        "id": "_qHMj5maAC7H",
        "outputId": "a85c3780-f284-4566-9374-bea524819f9a"
      },
      "execution_count": null,
      "outputs": [
        {
          "output_type": "stream",
          "name": "stdout",
          "text": [
            "Collecting vaderSentiment\n",
            "  Downloading vaderSentiment-3.3.2-py2.py3-none-any.whl (125 kB)\n",
            "\u001b[?25l     \u001b[90m━━━━━━━━━━━━━━━━━━━━━━━━━━━━━━━━━━━━━━━━\u001b[0m \u001b[32m0.0/126.0 kB\u001b[0m \u001b[31m?\u001b[0m eta \u001b[36m-:--:--\u001b[0m\r\u001b[2K     \u001b[91m━━━━━━━━━━━━━━━━━━━━━━━━━━━━━━━━━━━━━━━\u001b[0m\u001b[90m╺\u001b[0m \u001b[32m122.9/126.0 kB\u001b[0m \u001b[31m4.0 MB/s\u001b[0m eta \u001b[36m0:00:01\u001b[0m\r\u001b[2K     \u001b[90m━━━━━━━━━━━━━━━━━━━━━━━━━━━━━━━━━━━━━━━━\u001b[0m \u001b[32m126.0/126.0 kB\u001b[0m \u001b[31m3.2 MB/s\u001b[0m eta \u001b[36m0:00:00\u001b[0m\n",
            "\u001b[?25hRequirement already satisfied: requests in /usr/local/lib/python3.10/dist-packages (from vaderSentiment) (2.31.0)\n",
            "Requirement already satisfied: charset-normalizer<4,>=2 in /usr/local/lib/python3.10/dist-packages (from requests->vaderSentiment) (3.3.2)\n",
            "Requirement already satisfied: idna<4,>=2.5 in /usr/local/lib/python3.10/dist-packages (from requests->vaderSentiment) (3.6)\n",
            "Requirement already satisfied: urllib3<3,>=1.21.1 in /usr/local/lib/python3.10/dist-packages (from requests->vaderSentiment) (2.0.7)\n",
            "Requirement already satisfied: certifi>=2017.4.17 in /usr/local/lib/python3.10/dist-packages (from requests->vaderSentiment) (2024.2.2)\n",
            "Installing collected packages: vaderSentiment\n",
            "Successfully installed vaderSentiment-3.3.2\n"
          ]
        }
      ]
    },
    {
      "cell_type": "code",
      "source": [
        "analyzer = SentimentIntensityAnalyzer()\n",
        "sentiment_score = []\n",
        "for tweet in df['Tweet']:\n",
        "  sentiment = analyzer.polarity_scores(tweet)['compound']\n",
        "  if sentiment >= 0.5:\n",
        "    sentiment_score.append(1)\n",
        "  elif sentiment <= -0.5:\n",
        "    sentiment_score.append(-1)\n",
        "  else:\n",
        "    sentiment_score.append(0)\n",
        "\n",
        "print(sentiment_score)"
      ],
      "metadata": {
        "id": "FKti69loESH1"
      },
      "execution_count": null,
      "outputs": []
    },
    {
      "cell_type": "code",
      "source": [
        "new_df = pd.DataFrame()\n",
        "new_df['Tweet'] = df['Tweet']\n",
        "new_df['Sentiment_Score'] = sentiment_score\n",
        "new_df['Label'] = df['Label']\n",
        "print(new_df.shape)"
      ],
      "metadata": {
        "colab": {
          "base_uri": "https://localhost:8080/"
        },
        "id": "cB6slFz0E--D",
        "outputId": "5e6e9aef-8f01-4c84-839c-86dbd2f6b503"
      },
      "execution_count": null,
      "outputs": [
        {
          "output_type": "stream",
          "name": "stdout",
          "text": [
            "(49884, 3)\n"
          ]
        }
      ]
    },
    {
      "cell_type": "code",
      "source": [
        "new_df.sample(5)"
      ],
      "metadata": {
        "colab": {
          "base_uri": "https://localhost:8080/",
          "height": 206
        },
        "id": "NH8v1y1eHyXd",
        "outputId": "6759b771-8876-4f40-dbfd-eeb4c5df60da"
      },
      "execution_count": null,
      "outputs": [
        {
          "output_type": "execute_result",
          "data": {
            "text/plain": [
              "                                                   Tweet  Sentiment_Score  \\\n",
              "2061            people absolute favorite willowood ranch                0   \n",
              "21915  old friend amp new friend one year friendship ...                1   \n",
              "3486     fool stop pop roll spot every day others chunk…               -1   \n",
              "12178  somewhere hill clothing user colorado spring c...                0   \n",
              "20774                hoco chateau elan winery amp resort                0   \n",
              "\n",
              "       Label  \n",
              "2061       3  \n",
              "21915      0  \n",
              "3486       2  \n",
              "12178     18  \n",
              "20774      0  "
            ],
            "text/html": [
              "\n",
              "  <div id=\"df-9900f12c-530f-4894-b5d0-71e6a48ac257\" class=\"colab-df-container\">\n",
              "    <div>\n",
              "<style scoped>\n",
              "    .dataframe tbody tr th:only-of-type {\n",
              "        vertical-align: middle;\n",
              "    }\n",
              "\n",
              "    .dataframe tbody tr th {\n",
              "        vertical-align: top;\n",
              "    }\n",
              "\n",
              "    .dataframe thead th {\n",
              "        text-align: right;\n",
              "    }\n",
              "</style>\n",
              "<table border=\"1\" class=\"dataframe\">\n",
              "  <thead>\n",
              "    <tr style=\"text-align: right;\">\n",
              "      <th></th>\n",
              "      <th>Tweet</th>\n",
              "      <th>Sentiment_Score</th>\n",
              "      <th>Label</th>\n",
              "    </tr>\n",
              "  </thead>\n",
              "  <tbody>\n",
              "    <tr>\n",
              "      <th>2061</th>\n",
              "      <td>people absolute favorite willowood ranch</td>\n",
              "      <td>0</td>\n",
              "      <td>3</td>\n",
              "    </tr>\n",
              "    <tr>\n",
              "      <th>21915</th>\n",
              "      <td>old friend amp new friend one year friendship ...</td>\n",
              "      <td>1</td>\n",
              "      <td>0</td>\n",
              "    </tr>\n",
              "    <tr>\n",
              "      <th>3486</th>\n",
              "      <td>fool stop pop roll spot every day others chunk…</td>\n",
              "      <td>-1</td>\n",
              "      <td>2</td>\n",
              "    </tr>\n",
              "    <tr>\n",
              "      <th>12178</th>\n",
              "      <td>somewhere hill clothing user colorado spring c...</td>\n",
              "      <td>0</td>\n",
              "      <td>18</td>\n",
              "    </tr>\n",
              "    <tr>\n",
              "      <th>20774</th>\n",
              "      <td>hoco chateau elan winery amp resort</td>\n",
              "      <td>0</td>\n",
              "      <td>0</td>\n",
              "    </tr>\n",
              "  </tbody>\n",
              "</table>\n",
              "</div>\n",
              "    <div class=\"colab-df-buttons\">\n",
              "\n",
              "  <div class=\"colab-df-container\">\n",
              "    <button class=\"colab-df-convert\" onclick=\"convertToInteractive('df-9900f12c-530f-4894-b5d0-71e6a48ac257')\"\n",
              "            title=\"Convert this dataframe to an interactive table.\"\n",
              "            style=\"display:none;\">\n",
              "\n",
              "  <svg xmlns=\"http://www.w3.org/2000/svg\" height=\"24px\" viewBox=\"0 -960 960 960\">\n",
              "    <path d=\"M120-120v-720h720v720H120Zm60-500h600v-160H180v160Zm220 220h160v-160H400v160Zm0 220h160v-160H400v160ZM180-400h160v-160H180v160Zm440 0h160v-160H620v160ZM180-180h160v-160H180v160Zm440 0h160v-160H620v160Z\"/>\n",
              "  </svg>\n",
              "    </button>\n",
              "\n",
              "  <style>\n",
              "    .colab-df-container {\n",
              "      display:flex;\n",
              "      gap: 12px;\n",
              "    }\n",
              "\n",
              "    .colab-df-convert {\n",
              "      background-color: #E8F0FE;\n",
              "      border: none;\n",
              "      border-radius: 50%;\n",
              "      cursor: pointer;\n",
              "      display: none;\n",
              "      fill: #1967D2;\n",
              "      height: 32px;\n",
              "      padding: 0 0 0 0;\n",
              "      width: 32px;\n",
              "    }\n",
              "\n",
              "    .colab-df-convert:hover {\n",
              "      background-color: #E2EBFA;\n",
              "      box-shadow: 0px 1px 2px rgba(60, 64, 67, 0.3), 0px 1px 3px 1px rgba(60, 64, 67, 0.15);\n",
              "      fill: #174EA6;\n",
              "    }\n",
              "\n",
              "    .colab-df-buttons div {\n",
              "      margin-bottom: 4px;\n",
              "    }\n",
              "\n",
              "    [theme=dark] .colab-df-convert {\n",
              "      background-color: #3B4455;\n",
              "      fill: #D2E3FC;\n",
              "    }\n",
              "\n",
              "    [theme=dark] .colab-df-convert:hover {\n",
              "      background-color: #434B5C;\n",
              "      box-shadow: 0px 1px 3px 1px rgba(0, 0, 0, 0.15);\n",
              "      filter: drop-shadow(0px 1px 2px rgba(0, 0, 0, 0.3));\n",
              "      fill: #FFFFFF;\n",
              "    }\n",
              "  </style>\n",
              "\n",
              "    <script>\n",
              "      const buttonEl =\n",
              "        document.querySelector('#df-9900f12c-530f-4894-b5d0-71e6a48ac257 button.colab-df-convert');\n",
              "      buttonEl.style.display =\n",
              "        google.colab.kernel.accessAllowed ? 'block' : 'none';\n",
              "\n",
              "      async function convertToInteractive(key) {\n",
              "        const element = document.querySelector('#df-9900f12c-530f-4894-b5d0-71e6a48ac257');\n",
              "        const dataTable =\n",
              "          await google.colab.kernel.invokeFunction('convertToInteractive',\n",
              "                                                    [key], {});\n",
              "        if (!dataTable) return;\n",
              "\n",
              "        const docLinkHtml = 'Like what you see? Visit the ' +\n",
              "          '<a target=\"_blank\" href=https://colab.research.google.com/notebooks/data_table.ipynb>data table notebook</a>'\n",
              "          + ' to learn more about interactive tables.';\n",
              "        element.innerHTML = '';\n",
              "        dataTable['output_type'] = 'display_data';\n",
              "        await google.colab.output.renderOutput(dataTable, element);\n",
              "        const docLink = document.createElement('div');\n",
              "        docLink.innerHTML = docLinkHtml;\n",
              "        element.appendChild(docLink);\n",
              "      }\n",
              "    </script>\n",
              "  </div>\n",
              "\n",
              "\n",
              "<div id=\"df-f9cbfc20-15d6-4f53-b9b5-7f32fd06371d\">\n",
              "  <button class=\"colab-df-quickchart\" onclick=\"quickchart('df-f9cbfc20-15d6-4f53-b9b5-7f32fd06371d')\"\n",
              "            title=\"Suggest charts\"\n",
              "            style=\"display:none;\">\n",
              "\n",
              "<svg xmlns=\"http://www.w3.org/2000/svg\" height=\"24px\"viewBox=\"0 0 24 24\"\n",
              "     width=\"24px\">\n",
              "    <g>\n",
              "        <path d=\"M19 3H5c-1.1 0-2 .9-2 2v14c0 1.1.9 2 2 2h14c1.1 0 2-.9 2-2V5c0-1.1-.9-2-2-2zM9 17H7v-7h2v7zm4 0h-2V7h2v10zm4 0h-2v-4h2v4z\"/>\n",
              "    </g>\n",
              "</svg>\n",
              "  </button>\n",
              "\n",
              "<style>\n",
              "  .colab-df-quickchart {\n",
              "      --bg-color: #E8F0FE;\n",
              "      --fill-color: #1967D2;\n",
              "      --hover-bg-color: #E2EBFA;\n",
              "      --hover-fill-color: #174EA6;\n",
              "      --disabled-fill-color: #AAA;\n",
              "      --disabled-bg-color: #DDD;\n",
              "  }\n",
              "\n",
              "  [theme=dark] .colab-df-quickchart {\n",
              "      --bg-color: #3B4455;\n",
              "      --fill-color: #D2E3FC;\n",
              "      --hover-bg-color: #434B5C;\n",
              "      --hover-fill-color: #FFFFFF;\n",
              "      --disabled-bg-color: #3B4455;\n",
              "      --disabled-fill-color: #666;\n",
              "  }\n",
              "\n",
              "  .colab-df-quickchart {\n",
              "    background-color: var(--bg-color);\n",
              "    border: none;\n",
              "    border-radius: 50%;\n",
              "    cursor: pointer;\n",
              "    display: none;\n",
              "    fill: var(--fill-color);\n",
              "    height: 32px;\n",
              "    padding: 0;\n",
              "    width: 32px;\n",
              "  }\n",
              "\n",
              "  .colab-df-quickchart:hover {\n",
              "    background-color: var(--hover-bg-color);\n",
              "    box-shadow: 0 1px 2px rgba(60, 64, 67, 0.3), 0 1px 3px 1px rgba(60, 64, 67, 0.15);\n",
              "    fill: var(--button-hover-fill-color);\n",
              "  }\n",
              "\n",
              "  .colab-df-quickchart-complete:disabled,\n",
              "  .colab-df-quickchart-complete:disabled:hover {\n",
              "    background-color: var(--disabled-bg-color);\n",
              "    fill: var(--disabled-fill-color);\n",
              "    box-shadow: none;\n",
              "  }\n",
              "\n",
              "  .colab-df-spinner {\n",
              "    border: 2px solid var(--fill-color);\n",
              "    border-color: transparent;\n",
              "    border-bottom-color: var(--fill-color);\n",
              "    animation:\n",
              "      spin 1s steps(1) infinite;\n",
              "  }\n",
              "\n",
              "  @keyframes spin {\n",
              "    0% {\n",
              "      border-color: transparent;\n",
              "      border-bottom-color: var(--fill-color);\n",
              "      border-left-color: var(--fill-color);\n",
              "    }\n",
              "    20% {\n",
              "      border-color: transparent;\n",
              "      border-left-color: var(--fill-color);\n",
              "      border-top-color: var(--fill-color);\n",
              "    }\n",
              "    30% {\n",
              "      border-color: transparent;\n",
              "      border-left-color: var(--fill-color);\n",
              "      border-top-color: var(--fill-color);\n",
              "      border-right-color: var(--fill-color);\n",
              "    }\n",
              "    40% {\n",
              "      border-color: transparent;\n",
              "      border-right-color: var(--fill-color);\n",
              "      border-top-color: var(--fill-color);\n",
              "    }\n",
              "    60% {\n",
              "      border-color: transparent;\n",
              "      border-right-color: var(--fill-color);\n",
              "    }\n",
              "    80% {\n",
              "      border-color: transparent;\n",
              "      border-right-color: var(--fill-color);\n",
              "      border-bottom-color: var(--fill-color);\n",
              "    }\n",
              "    90% {\n",
              "      border-color: transparent;\n",
              "      border-bottom-color: var(--fill-color);\n",
              "    }\n",
              "  }\n",
              "</style>\n",
              "\n",
              "  <script>\n",
              "    async function quickchart(key) {\n",
              "      const quickchartButtonEl =\n",
              "        document.querySelector('#' + key + ' button');\n",
              "      quickchartButtonEl.disabled = true;  // To prevent multiple clicks.\n",
              "      quickchartButtonEl.classList.add('colab-df-spinner');\n",
              "      try {\n",
              "        const charts = await google.colab.kernel.invokeFunction(\n",
              "            'suggestCharts', [key], {});\n",
              "      } catch (error) {\n",
              "        console.error('Error during call to suggestCharts:', error);\n",
              "      }\n",
              "      quickchartButtonEl.classList.remove('colab-df-spinner');\n",
              "      quickchartButtonEl.classList.add('colab-df-quickchart-complete');\n",
              "    }\n",
              "    (() => {\n",
              "      let quickchartButtonEl =\n",
              "        document.querySelector('#df-f9cbfc20-15d6-4f53-b9b5-7f32fd06371d button');\n",
              "      quickchartButtonEl.style.display =\n",
              "        google.colab.kernel.accessAllowed ? 'block' : 'none';\n",
              "    })();\n",
              "  </script>\n",
              "</div>\n",
              "\n",
              "    </div>\n",
              "  </div>\n"
            ]
          },
          "metadata": {},
          "execution_count": 28
        }
      ]
    },
    {
      "cell_type": "code",
      "source": [
        "corr = new_df['Label'].corr(new_df['Sentiment_Score'])"
      ],
      "metadata": {
        "id": "0p1uwr4FGXUB"
      },
      "execution_count": null,
      "outputs": []
    },
    {
      "cell_type": "code",
      "source": [
        "print(\"Correlation between Sentiment of the tweet and label : \", corr)"
      ],
      "metadata": {
        "colab": {
          "base_uri": "https://localhost:8080/"
        },
        "id": "tkPGcA5_Gl6O",
        "outputId": "d182109e-26a0-4a4c-d8ad-1b67c7e69154"
      },
      "execution_count": null,
      "outputs": [
        {
          "output_type": "stream",
          "name": "stdout",
          "text": [
            "Correlation between Sentiment of the tweet and label :  -0.06495911462472476\n"
          ]
        }
      ]
    },
    {
      "cell_type": "markdown",
      "source": [
        "Correlation between sentiment of the tweet and label is very low so we will discard it as our feature."
      ],
      "metadata": {
        "id": "yBM84Clkdk_E"
      }
    },
    {
      "cell_type": "code",
      "source": [
        "X = df['Tweet'].values\n",
        "y = df['Label'].values"
      ],
      "metadata": {
        "id": "5PylV-J4P1MT"
      },
      "execution_count": null,
      "outputs": []
    },
    {
      "cell_type": "markdown",
      "source": [
        "# Over-sampling data"
      ],
      "metadata": {
        "id": "1lJMrkNNlu96"
      }
    },
    {
      "cell_type": "code",
      "source": [
        "df['Label'].value_counts()"
      ],
      "metadata": {
        "colab": {
          "base_uri": "https://localhost:8080/"
        },
        "id": "b1X7Rdlv7iu_",
        "outputId": "b515762b-09d2-4228-8cb9-6c358a88b0bc"
      },
      "execution_count": null,
      "outputs": [
        {
          "output_type": "execute_result",
          "data": {
            "text/plain": [
              "0     10728\n",
              "1      5263\n",
              "2      5237\n",
              "3      2881\n",
              "4      2513\n",
              "5      2312\n",
              "6      2043\n",
              "7      1884\n",
              "8      1791\n",
              "9      1667\n",
              "10     1541\n",
              "11     1518\n",
              "12     1460\n",
              "14     1375\n",
              "13     1346\n",
              "16     1306\n",
              "18     1284\n",
              "17     1276\n",
              "15     1246\n",
              "19     1213\n",
              "Name: Label, dtype: int64"
            ]
          },
          "metadata": {},
          "execution_count": 32
        }
      ]
    },
    {
      "cell_type": "code",
      "source": [
        "from imblearn.over_sampling import RandomOverSampler\n",
        "os = RandomOverSampler()\n",
        "X = X.reshape(X.shape[0],1)\n",
        "X, y = os.fit_resample(X, y)\n",
        "X = X.reshape(X.shape[0],)\n",
        "print(X.shape, y.shape)"
      ],
      "metadata": {
        "colab": {
          "base_uri": "https://localhost:8080/"
        },
        "id": "TxQml09TluYj",
        "outputId": "6cb194cd-7b72-4251-d6a9-339b5179e824"
      },
      "execution_count": null,
      "outputs": [
        {
          "output_type": "stream",
          "name": "stdout",
          "text": [
            "(214560,) (214560,)\n"
          ]
        }
      ]
    },
    {
      "cell_type": "markdown",
      "source": [
        "# Tokenization"
      ],
      "metadata": {
        "id": "iV-GOjfgKuwS"
      }
    },
    {
      "cell_type": "code",
      "source": [
        "from keras.preprocessing.sequence import pad_sequences\n",
        "from keras.preprocessing.text import Tokenizer\n",
        "\n",
        "tokenizer = Tokenizer()\n",
        "tokenizer.fit_on_texts(X)\n",
        "sequences = tokenizer.texts_to_sequences(X)"
      ],
      "metadata": {
        "id": "cPALHLcUGnKv"
      },
      "execution_count": null,
      "outputs": []
    },
    {
      "cell_type": "code",
      "source": [
        "for i in range(10):\n",
        "  print(\"Tweet:\", X[i])\n",
        "  print(\"Tokenized Text:\", sequences[i])"
      ],
      "metadata": {
        "colab": {
          "base_uri": "https://localhost:8080/"
        },
        "id": "-MT5ortyNaly",
        "outputId": "9beaaedb-c678-4231-b4c1-648e46b7f6d3"
      },
      "execution_count": null,
      "outputs": [
        {
          "output_type": "stream",
          "name": "stdout",
          "text": [
            "Tweet: little throwback favourite person water wall\n",
            "Tokenized Text: [29, 367, 1655, 366, 547, 654]\n",
            "Tweet: glam user yesterday kcon makeup using user featherette…\n",
            "Tokenized Text: [3515, 1, 209, 21515, 583, 1541, 1, 21516]\n",
            "Tweet: democracy plaza wake stunning outcome decision nbc news\n",
            "Tokenized Text: [4087, 621, 1055, 1148, 6562, 2551, 4568, 1428]\n",
            "Tweet: amp vilo walt disney magic kingdom\n",
            "Tokenized Text: [7, 47035, 476, 76, 161, 278]\n",
            "Tweet: never galaxy far far away\n",
            "Tokenized Text: [91, 2656, 675, 675, 468]\n",
            "Tweet: dinner fla tonight panseared salmon couscous veggie salad yum dinner florida salmon…\n",
            "Tokenized Text: [170, 15671, 47, 41816, 2807, 41817, 3405, 1740, 1875, 170, 58, 41818]\n",
            "Tweet: fav senior last game congrats beating west west salem…\n",
            "Tokenized Text: [466, 408, 26, 111, 511, 5946, 152, 152, 8017]\n",
            "Tweet: got go formal best friend phi mu jsu\n",
            "Tokenized Text: [19, 42, 1092, 21, 24, 977, 3822, 25161]\n",
            "Tweet: cause miss little homies throwback cousinlove indiana university\n",
            "Tokenized Text: [453, 99, 29, 1475, 367, 6793, 477, 18]\n",
            "Tweet: birthday kiss madison wisconsin\n",
            "Tokenized Text: [30, 669, 694, 862]\n"
          ]
        }
      ]
    },
    {
      "cell_type": "code",
      "source": [
        "max_length = max(len(seq) for seq in sequences)\n",
        "print(\"Length of the longest tweet : \", max_length)\n",
        "padded_sequences = pad_sequences(sequences, maxlen=max_length, padding='post')"
      ],
      "metadata": {
        "colab": {
          "base_uri": "https://localhost:8080/"
        },
        "id": "uG9gew7SLx82",
        "outputId": "be871859-f7e4-409a-952b-58249b326778"
      },
      "execution_count": null,
      "outputs": [
        {
          "output_type": "stream",
          "name": "stdout",
          "text": [
            "Length of the longest tweet :  23\n"
          ]
        }
      ]
    },
    {
      "cell_type": "code",
      "source": [
        "print(\"Number of unique words in vocalbulary : \", len(tokenizer.word_index))"
      ],
      "metadata": {
        "colab": {
          "base_uri": "https://localhost:8080/"
        },
        "id": "xs6JvlENTt7A",
        "outputId": "82fe7346-6263-4442-883a-f3ea0ed99910"
      },
      "execution_count": null,
      "outputs": [
        {
          "output_type": "stream",
          "name": "stdout",
          "text": [
            "Number of unique words in vocalbulary :  59964\n"
          ]
        }
      ]
    },
    {
      "cell_type": "code",
      "source": [
        "print(\"Padded Sequence : \", padded_sequences[0])"
      ],
      "metadata": {
        "colab": {
          "base_uri": "https://localhost:8080/"
        },
        "id": "0i9cLo5GN_gr",
        "outputId": "f4c4c2f3-417d-4bb9-c0a1-cf405527c8c9"
      },
      "execution_count": null,
      "outputs": [
        {
          "output_type": "stream",
          "name": "stdout",
          "text": [
            "Padded Sequence :  [  29  367 1655  366  547  654    0    0    0    0    0    0    0    0\n",
            "    0    0    0    0    0    0    0    0    0]\n"
          ]
        }
      ]
    },
    {
      "cell_type": "markdown",
      "source": [
        "# Train Test Split"
      ],
      "metadata": {
        "id": "OS56fwKLQn3K"
      }
    },
    {
      "cell_type": "code",
      "source": [
        "from sklearn.model_selection import train_test_split\n",
        "\n",
        "X_train, X_test, y_train, y_test = train_test_split(padded_sequences, y, test_size=0.2, random_state=42)\n",
        "print(\"Training X Dim \",X_train.shape)\n",
        "print(\"Training y Dim \",y_train.shape)\n",
        "print(\"Test X Dim \",X_test.shape)\n",
        "print(\"Test y Dim \",y_test.shape)"
      ],
      "metadata": {
        "colab": {
          "base_uri": "https://localhost:8080/"
        },
        "id": "uDXLikojOKs3",
        "outputId": "4aa2a5e5-1259-45a8-e125-a6febfcfcaba"
      },
      "execution_count": null,
      "outputs": [
        {
          "output_type": "stream",
          "name": "stdout",
          "text": [
            "Training X Dim  (171648, 23)\n",
            "Training y Dim  (171648,)\n",
            "Test X Dim  (42912, 23)\n",
            "Test y Dim  (42912,)\n"
          ]
        }
      ]
    },
    {
      "cell_type": "markdown",
      "source": [
        "# LSTMs Model"
      ],
      "metadata": {
        "id": "GbE3y4JqS8hq"
      }
    },
    {
      "cell_type": "code",
      "source": [
        "from keras.models import Sequential\n",
        "from keras.layers import Dropout, Dense, LSTM, Embedding, BatchNormalization\n",
        "\n",
        "model = Sequential()\n",
        "model.add(Embedding(input_dim=len(tokenizer.word_index)+1,output_dim=30,input_length=X_train.shape[1]))\n",
        "model.add(LSTM(units = 80, return_sequences=True))\n",
        "model.add(Dropout(0.5))\n",
        "model.add(LSTM(units = 40))\n",
        "model.add(Dropout(0.5))\n",
        "model.add(Dense(units=20, activation='softmax'))\n",
        "\n",
        "model.summary()"
      ],
      "metadata": {
        "colab": {
          "base_uri": "https://localhost:8080/"
        },
        "id": "z4aP3fhPRizJ",
        "outputId": "54cc1909-466d-42c5-f180-7855964a1442"
      },
      "execution_count": null,
      "outputs": [
        {
          "output_type": "stream",
          "name": "stdout",
          "text": [
            "Model: \"sequential\"\n",
            "_________________________________________________________________\n",
            " Layer (type)                Output Shape              Param #   \n",
            "=================================================================\n",
            " embedding (Embedding)       (None, 23, 30)            1798950   \n",
            "                                                                 \n",
            " lstm (LSTM)                 (None, 23, 80)            35520     \n",
            "                                                                 \n",
            " dropout (Dropout)           (None, 23, 80)            0         \n",
            "                                                                 \n",
            " lstm_1 (LSTM)               (None, 40)                19360     \n",
            "                                                                 \n",
            " dropout_1 (Dropout)         (None, 40)                0         \n",
            "                                                                 \n",
            " dense (Dense)               (None, 20)                820       \n",
            "                                                                 \n",
            "=================================================================\n",
            "Total params: 1854650 (7.07 MB)\n",
            "Trainable params: 1854650 (7.07 MB)\n",
            "Non-trainable params: 0 (0.00 Byte)\n",
            "_________________________________________________________________\n"
          ]
        }
      ]
    },
    {
      "cell_type": "code",
      "source": [
        "model.compile(loss = 'sparse_categorical_crossentropy', optimizer = \"adam\", metrics=[\"accuracy\"])"
      ],
      "metadata": {
        "id": "NlrFr3BSVAfk"
      },
      "execution_count": null,
      "outputs": []
    },
    {
      "cell_type": "code",
      "source": [
        "from keras.callbacks import EarlyStopping"
      ],
      "metadata": {
        "id": "srrdWOh7UfKK"
      },
      "execution_count": null,
      "outputs": []
    },
    {
      "cell_type": "code",
      "source": [
        "callback = EarlyStopping(\n",
        "    monitor=\"val_loss\",\n",
        "    patience=1,\n",
        "    verbose=1,\n",
        "    mode=\"auto\",\n",
        "    baseline=None,\n",
        "    restore_best_weights=False\n",
        ")"
      ],
      "metadata": {
        "id": "ZsqPTJ58aRyf"
      },
      "execution_count": null,
      "outputs": []
    },
    {
      "cell_type": "code",
      "source": [
        "history = model.fit(X_train, y_train, validation_data=(X_test, y_test), epochs=20, callbacks=callback)"
      ],
      "metadata": {
        "colab": {
          "base_uri": "https://localhost:8080/"
        },
        "id": "vxvKbZvfai8V",
        "outputId": "7a9a55f9-9500-44b9-c541-863e3dcddd43"
      },
      "execution_count": null,
      "outputs": [
        {
          "output_type": "stream",
          "name": "stdout",
          "text": [
            "Epoch 1/20\n",
            "5364/5364 [==============================] - 289s 52ms/step - loss: 2.3255 - accuracy: 0.2739 - val_loss: 1.6817 - val_accuracy: 0.4788\n",
            "Epoch 2/20\n",
            "5364/5364 [==============================] - 264s 49ms/step - loss: 1.3462 - accuracy: 0.6012 - val_loss: 1.0882 - val_accuracy: 0.6753\n",
            "Epoch 3/20\n",
            "5364/5364 [==============================] - 256s 48ms/step - loss: 0.8887 - accuracy: 0.7496 - val_loss: 0.8456 - val_accuracy: 0.7568\n",
            "Epoch 4/20\n",
            "5364/5364 [==============================] - 253s 47ms/step - loss: 0.6569 - accuracy: 0.8185 - val_loss: 0.7067 - val_accuracy: 0.7993\n",
            "Epoch 5/20\n",
            "5364/5364 [==============================] - 257s 48ms/step - loss: 0.5157 - accuracy: 0.8594 - val_loss: 0.6569 - val_accuracy: 0.8242\n",
            "Epoch 6/20\n",
            "5364/5364 [==============================] - 265s 49ms/step - loss: 0.4183 - accuracy: 0.8869 - val_loss: 0.5665 - val_accuracy: 0.8513\n",
            "Epoch 7/20\n",
            "5364/5364 [==============================] - 264s 49ms/step - loss: 0.3515 - accuracy: 0.9047 - val_loss: 0.5171 - val_accuracy: 0.8654\n",
            "Epoch 8/20\n",
            "5364/5364 [==============================] - 255s 48ms/step - loss: 0.2977 - accuracy: 0.9198 - val_loss: 0.5149 - val_accuracy: 0.8774\n",
            "Epoch 9/20\n",
            "5364/5364 [==============================] - 255s 48ms/step - loss: 0.2569 - accuracy: 0.9301 - val_loss: 0.4862 - val_accuracy: 0.8863\n",
            "Epoch 10/20\n",
            "5364/5364 [==============================] - 255s 48ms/step - loss: 0.2270 - accuracy: 0.9379 - val_loss: 0.4651 - val_accuracy: 0.8934\n",
            "Epoch 11/20\n",
            "5364/5364 [==============================] - 256s 48ms/step - loss: 0.2004 - accuracy: 0.9448 - val_loss: 0.4930 - val_accuracy: 0.8969\n",
            "Epoch 11: early stopping\n"
          ]
        }
      ]
    },
    {
      "cell_type": "markdown",
      "source": [
        "# Model Evaluation"
      ],
      "metadata": {
        "id": "PwZUOsjRfRKW"
      }
    },
    {
      "cell_type": "code",
      "source": [
        "plt.plot(history.history['accuracy'], label='Training Accuracy')\n",
        "plt.plot(history.history['val_accuracy'], label='Validation Accuracy')\n",
        "plt.legend()"
      ],
      "metadata": {
        "id": "Cja1FqY0naOO",
        "colab": {
          "base_uri": "https://localhost:8080/",
          "height": 447
        },
        "outputId": "c9d095b3-b0b2-4115-b1cc-96cd33b00f5b"
      },
      "execution_count": null,
      "outputs": [
        {
          "output_type": "execute_result",
          "data": {
            "text/plain": [
              "<matplotlib.legend.Legend at 0x77ff19a29120>"
            ]
          },
          "metadata": {},
          "execution_count": 45
        },
        {
          "output_type": "display_data",
          "data": {
            "text/plain": [
              "<Figure size 640x480 with 1 Axes>"
            ],
            "image/png": "[encoded data removed]"
          },
          "metadata": {}
        }
      ]
    },
    {
      "cell_type": "code",
      "source": [
        "plt.plot(history.history['loss'],  label='Training Loss')\n",
        "plt.plot(history.history['val_loss'], label='Validation Loss')\n",
        "plt.legend()"
      ],
      "metadata": {
        "id": "m5qEx0f8npX7",
        "colab": {
          "base_uri": "https://localhost:8080/",
          "height": 447
        },
        "outputId": "0170bf8d-9cf2-44a9-f0bd-35ced5ed7efb"
      },
      "execution_count": null,
      "outputs": [
        {
          "output_type": "execute_result",
          "data": {
            "text/plain": [
              "<matplotlib.legend.Legend at 0x77ff1a137ca0>"
            ]
          },
          "metadata": {},
          "execution_count": 46
        },
        {
          "output_type": "display_data",
          "data": {
            "text/plain": [
              "<Figure size 640x480 with 1 Axes>"
            ],
            "image/png": "[encoded data removed]"
          },
          "metadata": {}
        }
      ]
    },
    {
      "cell_type": "code",
      "source": [
        "y_pred = model.predict(X_test)"
      ],
      "metadata": {
        "id": "YxQdtFxOe4cI",
        "colab": {
          "base_uri": "https://localhost:8080/"
        },
        "outputId": "1eaab6eb-f7b2-4232-cef5-058c70c9da70"
      },
      "execution_count": null,
      "outputs": [
        {
          "output_type": "stream",
          "name": "stdout",
          "text": [
            "1341/1341 [==============================] - 15s 10ms/step\n"
          ]
        }
      ]
    },
    {
      "cell_type": "code",
      "source": [
        "y_pred.shape"
      ],
      "metadata": {
        "id": "uOek_cSsPQoe",
        "colab": {
          "base_uri": "https://localhost:8080/"
        },
        "outputId": "904ce083-46e2-45bd-9c59-c5928c890b50"
      },
      "execution_count": null,
      "outputs": [
        {
          "output_type": "execute_result",
          "data": {
            "text/plain": [
              "(42912, 20)"
            ]
          },
          "metadata": {},
          "execution_count": 48
        }
      ]
    },
    {
      "cell_type": "code",
      "source": [
        "y_predicted = []\n",
        "for i in range(y_pred.shape[0]):\n",
        "  y_predicted.append(np.argmax(y_pred[i]))\n",
        "\n",
        "print(len(y_predicted))"
      ],
      "metadata": {
        "id": "Ju-RsZv_Pp_2",
        "colab": {
          "base_uri": "https://localhost:8080/"
        },
        "outputId": "e3ccd38a-4a69-4263-b591-dd5b6e6115f9"
      },
      "execution_count": null,
      "outputs": [
        {
          "output_type": "stream",
          "name": "stdout",
          "text": [
            "42912\n"
          ]
        }
      ]
    },
    {
      "cell_type": "code",
      "source": [
        "from sklearn.metrics import classification_report, confusion_matrix\n",
        "print(classification_report(y_test, y_predicted))"
      ],
      "metadata": {
        "id": "U1xymLzaf_h8",
        "colab": {
          "base_uri": "https://localhost:8080/"
        },
        "outputId": "00f7b26e-ff66-43ac-ae07-553022af2c4e"
      },
      "execution_count": null,
      "outputs": [
        {
          "output_type": "stream",
          "name": "stdout",
          "text": [
            "              precision    recall  f1-score   support\n",
            "\n",
            "           0       0.53      0.35      0.42      2100\n",
            "           1       0.73      0.68      0.70      2090\n",
            "           2       0.81      0.77      0.79      2178\n",
            "           3       0.80      0.85      0.83      2158\n",
            "           4       0.90      0.94      0.92      2072\n",
            "           5       0.92      0.87      0.89      2141\n",
            "           6       0.92      0.92      0.92      2117\n",
            "           7       0.85      0.95      0.90      2171\n",
            "           8       0.88      0.94      0.91      2156\n",
            "           9       0.89      0.93      0.91      2198\n",
            "          10       0.97      0.98      0.98      2112\n",
            "          11       0.92      0.97      0.94      2167\n",
            "          12       0.95      0.97      0.96      2066\n",
            "          13       0.92      0.96      0.94      2134\n",
            "          14       0.94      0.97      0.95      2146\n",
            "          15       0.98      0.96      0.97      2259\n",
            "          16       0.97      0.97      0.97      2197\n",
            "          17       0.96      0.98      0.97      2200\n",
            "          18       0.97      0.99      0.98      2111\n",
            "          19       0.96      0.97      0.97      2139\n",
            "\n",
            "    accuracy                           0.90     42912\n",
            "   macro avg       0.89      0.90      0.89     42912\n",
            "weighted avg       0.89      0.90      0.89     42912\n",
            "\n"
          ]
        }
      ]
    },
    {
      "cell_type": "code",
      "source": [
        "conf_matrix = confusion_matrix(y_test, y_predicted)\n",
        "plt.figure(figsize=(10,10))\n",
        "sns.heatmap(conf_matrix, annot=True, fmt='d', cmap='Blues', xticklabels=[i for i in range(20)], yticklabels=[i for i in range(20)])\n",
        "plt.xlabel('Predicted Labels')\n",
        "plt.ylabel('True Labels')\n",
        "plt.title('Confusion Matrix')\n",
        "plt.show()"
      ],
      "metadata": {
        "id": "CDPC3No3lGNV",
        "colab": {
          "base_uri": "https://localhost:8080/",
          "height": 872
        },
        "outputId": "603a1658-b6e6-40dc-9834-7105db93c367"
      },
      "execution_count": null,
      "outputs": [
        {
          "output_type": "display_data",
          "data": {
            "text/plain": [
              "<Figure size 1000x1000 with 2 Axes>"
            ],
            "image/png": "[encoded data removed]"
          },
          "metadata": {}
        }
      ]
    },
    {
      "cell_type": "markdown",
      "source": [
        "# Bidirectional LSTMs Model"
      ],
      "metadata": {
        "id": "eBJIbh4SmCLi"
      }
    },
    {
      "cell_type": "code",
      "source": [
        "from keras.layers import Bidirectional\n",
        "\n",
        "model = Sequential()\n",
        "model.add(Embedding(input_dim=len(tokenizer.word_index)+1,output_dim=40,input_length=X_train.shape[1]))\n",
        "model.add(Bidirectional(LSTM(units = 80, return_sequences=True)))\n",
        "model.add(Dropout(0.5))\n",
        "model.add(Bidirectional(LSTM(units = 40)))\n",
        "model.add(Dropout(0.5))\n",
        "model.add(Dense(units=20, activation='softmax'))\n",
        "\n",
        "model.summary()"
      ],
      "metadata": {
        "id": "vxLRrKLgmGqF",
        "colab": {
          "base_uri": "https://localhost:8080/"
        },
        "outputId": "131e2c28-59a1-434b-f6c2-12204c8e00f0"
      },
      "execution_count": null,
      "outputs": [
        {
          "output_type": "stream",
          "name": "stdout",
          "text": [
            "Model: \"sequential_2\"\n",
            "_________________________________________________________________\n",
            " Layer (type)                Output Shape              Param #   \n",
            "=================================================================\n",
            " embedding_2 (Embedding)     (None, 23, 40)            2398600   \n",
            "                                                                 \n",
            " bidirectional_2 (Bidirecti  (None, 23, 160)           77440     \n",
            " onal)                                                           \n",
            "                                                                 \n",
            " dropout_4 (Dropout)         (None, 23, 160)           0         \n",
            "                                                                 \n",
            " bidirectional_3 (Bidirecti  (None, 80)                64320     \n",
            " onal)                                                           \n",
            "                                                                 \n",
            " dropout_5 (Dropout)         (None, 80)                0         \n",
            "                                                                 \n",
            " dense_2 (Dense)             (None, 20)                1620      \n",
            "                                                                 \n",
            "=================================================================\n",
            "Total params: 2541980 (9.70 MB)\n",
            "Trainable params: 2541980 (9.70 MB)\n",
            "Non-trainable params: 0 (0.00 Byte)\n",
            "_________________________________________________________________\n"
          ]
        }
      ]
    },
    {
      "cell_type": "code",
      "source": [
        "model.compile(loss = 'sparse_categorical_crossentropy', optimizer = \"adam\", metrics=[\"accuracy\"])"
      ],
      "metadata": {
        "id": "_A16LZMLSaHt"
      },
      "execution_count": null,
      "outputs": []
    },
    {
      "cell_type": "code",
      "source": [
        "history = model.fit(X_train, y_train, validation_data=(X_test, y_test), epochs=20, callbacks=callback)"
      ],
      "metadata": {
        "id": "zdud4jNGSkFd",
        "colab": {
          "base_uri": "https://localhost:8080/"
        },
        "outputId": "bee0d99a-b7c7-4a95-b66f-35a3645250cb"
      },
      "execution_count": null,
      "outputs": [
        {
          "output_type": "stream",
          "name": "stdout",
          "text": [
            "Epoch 1/20\n",
            "5364/5364 [==============================] - 462s 85ms/step - loss: 1.9748 - accuracy: 0.4032 - val_loss: 1.1969 - val_accuracy: 0.6538\n",
            "Epoch 2/20\n",
            "5364/5364 [==============================] - 462s 86ms/step - loss: 0.8794 - accuracy: 0.7515 - val_loss: 0.7279 - val_accuracy: 0.7902\n",
            "Epoch 3/20\n",
            "5364/5364 [==============================] - 435s 81ms/step - loss: 0.5399 - accuracy: 0.8456 - val_loss: 0.5530 - val_accuracy: 0.8436\n",
            "Epoch 4/20\n",
            "5364/5364 [==============================] - 434s 81ms/step - loss: 0.3805 - accuracy: 0.8927 - val_loss: 0.4700 - val_accuracy: 0.8720\n",
            "Epoch 5/20\n",
            "5364/5364 [==============================] - 435s 81ms/step - loss: 0.2844 - accuracy: 0.9204 - val_loss: 0.4297 - val_accuracy: 0.8894\n",
            "Epoch 6/20\n",
            "5364/5364 [==============================] - 436s 81ms/step - loss: 0.2213 - accuracy: 0.9391 - val_loss: 0.4003 - val_accuracy: 0.9013\n",
            "Epoch 7/20\n",
            "5364/5364 [==============================] - 433s 81ms/step - loss: 0.1785 - accuracy: 0.9505 - val_loss: 0.3892 - val_accuracy: 0.9097\n",
            "Epoch 8/20\n",
            "5364/5364 [==============================] - 435s 81ms/step - loss: 0.1498 - accuracy: 0.9589 - val_loss: 0.3661 - val_accuracy: 0.9162\n",
            "Epoch 9/20\n",
            "5364/5364 [==============================] - 434s 81ms/step - loss: 0.1282 - accuracy: 0.9641 - val_loss: 0.3727 - val_accuracy: 0.9217\n",
            "Epoch 9: early stopping\n"
          ]
        }
      ]
    },
    {
      "cell_type": "markdown",
      "source": [
        "# Model Evaluation"
      ],
      "metadata": {
        "id": "2PxgZ2dgASB8"
      }
    },
    {
      "cell_type": "code",
      "source": [
        "plt.plot(history.history['accuracy'], label='Training Accuracy')\n",
        "plt.plot(history.history['val_accuracy'], label='Validation Accuracy')\n",
        "plt.legend()"
      ],
      "metadata": {
        "id": "JxQyRhTnSqYE",
        "colab": {
          "base_uri": "https://localhost:8080/",
          "height": 447
        },
        "outputId": "fb39515d-0588-4413-aab8-acb0a0e3bf5a"
      },
      "execution_count": null,
      "outputs": [
        {
          "output_type": "execute_result",
          "data": {
            "text/plain": [
              "<matplotlib.legend.Legend at 0x77ff1b059c60>"
            ]
          },
          "metadata": {},
          "execution_count": 65
        },
        {
          "output_type": "display_data",
          "data": {
            "text/plain": [
              "<Figure size 640x480 with 1 Axes>"
            ],
            "image/png": "[encoded data removed]"
          },
          "metadata": {}
        }
      ]
    },
    {
      "cell_type": "code",
      "source": [
        "plt.plot(history.history['loss'],  label='Training Loss')\n",
        "plt.plot(history.history['val_loss'], label='Validation Loss')\n",
        "plt.legend()"
      ],
      "metadata": {
        "id": "qKURLpG1ir25",
        "colab": {
          "base_uri": "https://localhost:8080/",
          "height": 447
        },
        "outputId": "d6070754-5044-409f-ab42-dd77bd677653"
      },
      "execution_count": null,
      "outputs": [
        {
          "output_type": "execute_result",
          "data": {
            "text/plain": [
              "<matplotlib.legend.Legend at 0x77ff1b1b6ad0>"
            ]
          },
          "metadata": {},
          "execution_count": 66
        },
        {
          "output_type": "display_data",
          "data": {
            "text/plain": [
              "<Figure size 640x480 with 1 Axes>"
            ],
            "image/png": "[encoded data removed]"
          },
          "metadata": {}
        }
      ]
    },
    {
      "cell_type": "code",
      "source": [
        "y_pred = model.predict(X_test)"
      ],
      "metadata": {
        "id": "e9aVicPpiwY6",
        "colab": {
          "base_uri": "https://localhost:8080/"
        },
        "outputId": "b664a61c-4cfc-4785-bed6-f22175c736b3"
      },
      "execution_count": null,
      "outputs": [
        {
          "output_type": "stream",
          "name": "stdout",
          "text": [
            "1341/1341 [==============================] - 23s 16ms/step\n"
          ]
        }
      ]
    },
    {
      "cell_type": "code",
      "source": [
        "y_pred.shape"
      ],
      "metadata": {
        "id": "wBlVnRYMiz9e",
        "colab": {
          "base_uri": "https://localhost:8080/"
        },
        "outputId": "22b813b1-a906-4a59-9429-94cc2e939491"
      },
      "execution_count": null,
      "outputs": [
        {
          "output_type": "execute_result",
          "data": {
            "text/plain": [
              "(42912, 20)"
            ]
          },
          "metadata": {},
          "execution_count": 68
        }
      ]
    },
    {
      "cell_type": "code",
      "source": [
        "y_predicted = []\n",
        "for i in range(y_pred.shape[0]):\n",
        "  y_predicted.append(np.argmax(y_pred[i]))\n",
        "\n",
        "print(len(y_predicted))"
      ],
      "metadata": {
        "id": "4d6RLEsOi1jT",
        "colab": {
          "base_uri": "https://localhost:8080/"
        },
        "outputId": "95bdca6d-5fc2-4a38-97b5-19413cafa718"
      },
      "execution_count": null,
      "outputs": [
        {
          "output_type": "stream",
          "name": "stdout",
          "text": [
            "42912\n"
          ]
        }
      ]
    },
    {
      "cell_type": "code",
      "source": [
        "from sklearn.metrics import classification_report, confusion_matrix\n",
        "print(classification_report(y_test, y_predicted))"
      ],
      "metadata": {
        "id": "Xujg2uCsi5EJ",
        "colab": {
          "base_uri": "https://localhost:8080/"
        },
        "outputId": "e596bec7-da56-45fc-c7fd-e80d0012905a"
      },
      "execution_count": null,
      "outputs": [
        {
          "output_type": "stream",
          "name": "stdout",
          "text": [
            "              precision    recall  f1-score   support\n",
            "\n",
            "           0       0.63      0.37      0.47      2100\n",
            "           1       0.78      0.73      0.76      2090\n",
            "           2       0.84      0.80      0.82      2178\n",
            "           3       0.86      0.90      0.88      2158\n",
            "           4       0.95      0.96      0.95      2072\n",
            "           5       0.92      0.93      0.93      2141\n",
            "           6       0.91      0.96      0.94      2117\n",
            "           7       0.90      0.97      0.93      2171\n",
            "           8       0.94      0.95      0.94      2156\n",
            "           9       0.94      0.97      0.96      2198\n",
            "          10       0.98      0.99      0.98      2112\n",
            "          11       0.95      0.99      0.97      2167\n",
            "          12       0.96      0.99      0.98      2066\n",
            "          13       0.91      0.99      0.95      2134\n",
            "          14       0.97      0.98      0.98      2146\n",
            "          15       0.97      0.97      0.97      2259\n",
            "          16       0.97      0.99      0.98      2197\n",
            "          17       0.98      0.99      0.98      2200\n",
            "          18       0.98      0.99      0.98      2111\n",
            "          19       0.94      0.99      0.96      2139\n",
            "\n",
            "    accuracy                           0.92     42912\n",
            "   macro avg       0.91      0.92      0.92     42912\n",
            "weighted avg       0.92      0.92      0.92     42912\n",
            "\n"
          ]
        }
      ]
    },
    {
      "cell_type": "code",
      "source": [
        "conf_matrix = confusion_matrix(y_test, y_predicted)\n",
        "plt.figure(figsize=(10,10))\n",
        "sns.heatmap(conf_matrix, annot=True, fmt='d', cmap='Blues', xticklabels=[i for i in range(20)], yticklabels=[i for i in range(20)])\n",
        "plt.xlabel('Predicted Labels')\n",
        "plt.ylabel('True Labels')\n",
        "plt.title('Confusion Matrix')\n",
        "plt.show()"
      ],
      "metadata": {
        "id": "fgbtdQ4Pi8R3",
        "colab": {
          "base_uri": "https://localhost:8080/",
          "height": 872
        },
        "outputId": "404a3379-ad21-4bcd-b9b8-0c9e1059cfb8"
      },
      "execution_count": null,
      "outputs": [
        {
          "output_type": "display_data",
          "data": {
            "text/plain": [
              "<Figure size 1000x1000 with 2 Axes>"
            ],
            "image/png": "[encoded data removed]"
          },
          "metadata": {}
        }
      ]
    },
    {
      "cell_type": "code",
      "source": [],
      "metadata": {
        "id": "GieEGJGHi_QO"
      },
      "execution_count": null,
      "outputs": []
    }
  ]
}